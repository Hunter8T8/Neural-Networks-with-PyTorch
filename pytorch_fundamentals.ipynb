{
  "nbformat": 4,
  "nbformat_minor": 0,
  "metadata": {
    "colab": {
      "provenance": []
    },
    "kernelspec": {
      "name": "python3",
      "display_name": "Python 3"
    },
    "language_info": {
      "name": "python"
    }
  },
  "cells": [
    {
      "cell_type": "code",
      "source": [
        "import torch\n",
        "import pandas as pd\n",
        "import numpy as np\n",
        "import matplotlib.pyplot as plt\n",
        "print(torch.__version__)"
      ],
      "metadata": {
        "colab": {
          "base_uri": "https://localhost:8080/"
        },
        "id": "xftYDv6qm2tN",
        "outputId": "31da7e9f-88c4-4424-951b-d9419b584142"
      },
      "execution_count": 1,
      "outputs": [
        {
          "output_type": "stream",
          "name": "stdout",
          "text": [
            "2.8.0+cu126\n"
          ]
        }
      ]
    },
    {
      "cell_type": "code",
      "source": [
        "!nvidia-smi"
      ],
      "metadata": {
        "colab": {
          "base_uri": "https://localhost:8080/"
        },
        "id": "JskhIdLVoIDN",
        "outputId": "a0374309-f168-48e0-d37e-aa688ef2e802"
      },
      "execution_count": 2,
      "outputs": [
        {
          "output_type": "stream",
          "name": "stdout",
          "text": [
            "/bin/bash: line 1: nvidia-smi: command not found\n"
          ]
        }
      ]
    },
    {
      "cell_type": "code",
      "source": [
        "### introduction to tensors\n",
        "\n",
        "### scalar\n",
        "\n",
        "scalar = torch.tensor(7)\n",
        "scalar"
      ],
      "metadata": {
        "colab": {
          "base_uri": "https://localhost:8080/"
        },
        "id": "AJt0nH96oS0n",
        "outputId": "800ae930-3b7e-41d8-cc35-793ecefe4183"
      },
      "execution_count": 3,
      "outputs": [
        {
          "output_type": "execute_result",
          "data": {
            "text/plain": [
              "tensor(7)"
            ]
          },
          "metadata": {},
          "execution_count": 3
        }
      ]
    },
    {
      "cell_type": "code",
      "source": [
        "scalar.ndim"
      ],
      "metadata": {
        "colab": {
          "base_uri": "https://localhost:8080/"
        },
        "id": "VvDswcGPpI5v",
        "outputId": "84a26f1e-e274-4152-bb08-8f518368fd19"
      },
      "execution_count": 4,
      "outputs": [
        {
          "output_type": "execute_result",
          "data": {
            "text/plain": [
              "0"
            ]
          },
          "metadata": {},
          "execution_count": 4
        }
      ]
    },
    {
      "cell_type": "code",
      "source": [
        "scalar.item()"
      ],
      "metadata": {
        "colab": {
          "base_uri": "https://localhost:8080/"
        },
        "id": "9uebkgNIpk89",
        "outputId": "0162c9e3-1a70-4b56-e49c-a963c52f40d0"
      },
      "execution_count": 5,
      "outputs": [
        {
          "output_type": "execute_result",
          "data": {
            "text/plain": [
              "7"
            ]
          },
          "metadata": {},
          "execution_count": 5
        }
      ]
    },
    {
      "cell_type": "code",
      "source": [
        "vector = torch.tensor([10,20])\n",
        "vector"
      ],
      "metadata": {
        "colab": {
          "base_uri": "https://localhost:8080/"
        },
        "id": "rRjPGv08o-Bu",
        "outputId": "14b5cf29-055b-48d8-bf4f-f08e4d25243f"
      },
      "execution_count": 6,
      "outputs": [
        {
          "output_type": "execute_result",
          "data": {
            "text/plain": [
              "tensor([10, 20])"
            ]
          },
          "metadata": {},
          "execution_count": 6
        }
      ]
    },
    {
      "cell_type": "code",
      "source": [
        "vector.ndim"
      ],
      "metadata": {
        "colab": {
          "base_uri": "https://localhost:8080/"
        },
        "id": "LffmRHB-qCY8",
        "outputId": "b84f2277-953b-474b-94d3-6f9130a94b18"
      },
      "execution_count": 7,
      "outputs": [
        {
          "output_type": "execute_result",
          "data": {
            "text/plain": [
              "1"
            ]
          },
          "metadata": {},
          "execution_count": 7
        }
      ]
    },
    {
      "cell_type": "code",
      "source": [
        "vector.shape"
      ],
      "metadata": {
        "colab": {
          "base_uri": "https://localhost:8080/"
        },
        "id": "gm6gI_FiqJHl",
        "outputId": "f57ca34a-49df-4d25-d1b8-3d8fc950aff3"
      },
      "execution_count": 8,
      "outputs": [
        {
          "output_type": "execute_result",
          "data": {
            "text/plain": [
              "torch.Size([2])"
            ]
          },
          "metadata": {},
          "execution_count": 8
        }
      ]
    },
    {
      "cell_type": "code",
      "source": [
        "### Matrix\n",
        "MATRIX = torch.tensor([[7,8],\n",
        "                       [9,10]])\n",
        "MATRIX"
      ],
      "metadata": {
        "colab": {
          "base_uri": "https://localhost:8080/"
        },
        "id": "acudQYIGqUSU",
        "outputId": "6de66d1a-8f5f-4d41-9384-61006fcf41b8"
      },
      "execution_count": 9,
      "outputs": [
        {
          "output_type": "execute_result",
          "data": {
            "text/plain": [
              "tensor([[ 7,  8],\n",
              "        [ 9, 10]])"
            ]
          },
          "metadata": {},
          "execution_count": 9
        }
      ]
    },
    {
      "cell_type": "code",
      "source": [
        "MATRIX.ndim"
      ],
      "metadata": {
        "colab": {
          "base_uri": "https://localhost:8080/"
        },
        "id": "-upxkirkqs2w",
        "outputId": "c743e171-cbb4-4ef8-f6fa-b763cbae28a9"
      },
      "execution_count": 10,
      "outputs": [
        {
          "output_type": "execute_result",
          "data": {
            "text/plain": [
              "2"
            ]
          },
          "metadata": {},
          "execution_count": 10
        }
      ]
    },
    {
      "cell_type": "code",
      "source": [
        "MATRIX [0]"
      ],
      "metadata": {
        "colab": {
          "base_uri": "https://localhost:8080/"
        },
        "id": "N8JXAoqiq1mM",
        "outputId": "91f2728e-4992-457b-a4be-d1c3e57ccb0a"
      },
      "execution_count": 11,
      "outputs": [
        {
          "output_type": "execute_result",
          "data": {
            "text/plain": [
              "tensor([7, 8])"
            ]
          },
          "metadata": {},
          "execution_count": 11
        }
      ]
    },
    {
      "cell_type": "code",
      "source": [
        "MATRIX.shape\n"
      ],
      "metadata": {
        "colab": {
          "base_uri": "https://localhost:8080/"
        },
        "id": "VmC_aIsRrmaE",
        "outputId": "1a1219cc-a955-4636-a307-a1215d92e794"
      },
      "execution_count": 12,
      "outputs": [
        {
          "output_type": "execute_result",
          "data": {
            "text/plain": [
              "torch.Size([2, 2])"
            ]
          },
          "metadata": {},
          "execution_count": 12
        }
      ]
    },
    {
      "cell_type": "code",
      "source": [
        "### TENSOR\n",
        "TENSOR  = torch.tensor([[[1,2,3],\n",
        "                       [3,6,9],\n",
        "                       [2,4,5]]])\n",
        "TENSOR"
      ],
      "metadata": {
        "colab": {
          "base_uri": "https://localhost:8080/"
        },
        "id": "rug6HA-Orq_P",
        "outputId": "afb6ee5f-52c4-4a3b-bd59-86e73a11a849"
      },
      "execution_count": 13,
      "outputs": [
        {
          "output_type": "execute_result",
          "data": {
            "text/plain": [
              "tensor([[[1, 2, 3],\n",
              "         [3, 6, 9],\n",
              "         [2, 4, 5]]])"
            ]
          },
          "metadata": {},
          "execution_count": 13
        }
      ]
    },
    {
      "cell_type": "code",
      "source": [
        "TENSOR.ndim"
      ],
      "metadata": {
        "colab": {
          "base_uri": "https://localhost:8080/"
        },
        "id": "NwBtA6xUsV4t",
        "outputId": "6c6ee08e-1f78-41ff-9aae-1913a3adfe81"
      },
      "execution_count": 14,
      "outputs": [
        {
          "output_type": "execute_result",
          "data": {
            "text/plain": [
              "3"
            ]
          },
          "metadata": {},
          "execution_count": 14
        }
      ]
    },
    {
      "cell_type": "code",
      "source": [
        "TENSOR.shape"
      ],
      "metadata": {
        "colab": {
          "base_uri": "https://localhost:8080/"
        },
        "id": "2c2xbc3AsbB0",
        "outputId": "d52bd520-d4c0-44d6-b1ad-b35314677da2"
      },
      "execution_count": 15,
      "outputs": [
        {
          "output_type": "execute_result",
          "data": {
            "text/plain": [
              "torch.Size([1, 3, 3])"
            ]
          },
          "metadata": {},
          "execution_count": 15
        }
      ]
    },
    {
      "cell_type": "code",
      "source": [
        "TENSOR_1 = torch.tensor([[[1,2,3,5],\n",
        "                          [4,5,6,6],\n",
        "                          [6,7,8,3],\n",
        "                          [1,2,3,4]],\n",
        "                         [[5,6,7,5],\n",
        "                         [9,5,4,2],\n",
        "                         [9,7,6,1],\n",
        "                          [6,5,4,7]],])\n",
        "TENSOR_1.shape"
      ],
      "metadata": {
        "colab": {
          "base_uri": "https://localhost:8080/"
        },
        "id": "Jl2QNK5ssmrQ",
        "outputId": "e017ede4-63aa-4daf-f8f3-68ef7ac9de45"
      },
      "execution_count": 16,
      "outputs": [
        {
          "output_type": "execute_result",
          "data": {
            "text/plain": [
              "torch.Size([2, 4, 4])"
            ]
          },
          "metadata": {},
          "execution_count": 16
        }
      ]
    },
    {
      "cell_type": "code",
      "source": [
        "TENSOR_3 = torch.tensor([[[1,2],\n",
        "                          [3,4],\n",
        "                           [1,2]],\n",
        "                        [[1,2],\n",
        "                         [1,2],\n",
        "                          [1,2]]])\n",
        "\n",
        "TENSOR_3.shape"
      ],
      "metadata": {
        "colab": {
          "base_uri": "https://localhost:8080/"
        },
        "id": "Qm2JyYD0ngTn",
        "outputId": "92a2148d-ec15-4748-fc81-73b16b5fc3b7"
      },
      "execution_count": 17,
      "outputs": [
        {
          "output_type": "execute_result",
          "data": {
            "text/plain": [
              "torch.Size([2, 3, 2])"
            ]
          },
          "metadata": {},
          "execution_count": 17
        }
      ]
    },
    {
      "cell_type": "markdown",
      "source": [
        "### Random Tensors"
      ],
      "metadata": {
        "id": "uyNiq2hvv4Bs"
      }
    },
    {
      "cell_type": "code",
      "source": [
        "# Create a random tensor of size (3,4)\n",
        "random_tensor = torch.rand(3,4)\n",
        "\n",
        "random_tensor"
      ],
      "metadata": {
        "colab": {
          "base_uri": "https://localhost:8080/"
        },
        "id": "ynAlGFvHv96U",
        "outputId": "ea0c1ce5-15f2-408d-e699-8751a3c81507"
      },
      "execution_count": 18,
      "outputs": [
        {
          "output_type": "execute_result",
          "data": {
            "text/plain": [
              "tensor([[2.0177e-01, 9.5332e-01, 7.5927e-02, 2.7984e-01],\n",
              "        [3.0811e-01, 1.0510e-01, 1.1337e-01, 6.4500e-01],\n",
              "        [9.0277e-04, 6.3693e-01, 7.0512e-01, 8.1527e-01]])"
            ]
          },
          "metadata": {},
          "execution_count": 18
        }
      ]
    },
    {
      "cell_type": "code",
      "source": [
        "random_tensor.ndim"
      ],
      "metadata": {
        "colab": {
          "base_uri": "https://localhost:8080/"
        },
        "id": "D7-tbYBwzW3G",
        "outputId": "c2795159-bfb6-402b-b8e2-bd3021c3a50e"
      },
      "execution_count": 19,
      "outputs": [
        {
          "output_type": "execute_result",
          "data": {
            "text/plain": [
              "2"
            ]
          },
          "metadata": {},
          "execution_count": 19
        }
      ]
    },
    {
      "cell_type": "code",
      "source": [
        "# Create a random tensor with similar shape to an image tensor\n",
        "random_image_size_tensor = torch.rand(size =(3,224,224)) # height, width, color channles # arg = size is optional\n",
        "random_image_size_tensor.shape, random_image_size_tensor.ndim"
      ],
      "metadata": {
        "colab": {
          "base_uri": "https://localhost:8080/"
        },
        "id": "uXuQ70uLwsd2",
        "outputId": "d2c86838-02d2-4527-fbf5-34023c4eafc5"
      },
      "execution_count": 20,
      "outputs": [
        {
          "output_type": "execute_result",
          "data": {
            "text/plain": [
              "(torch.Size([3, 224, 224]), 3)"
            ]
          },
          "metadata": {},
          "execution_count": 20
        }
      ]
    },
    {
      "cell_type": "markdown",
      "source": [
        "### Zeroes & Ones"
      ],
      "metadata": {
        "id": "uGZnc0M1wsar"
      }
    },
    {
      "cell_type": "code",
      "source": [
        "# zeroes\n",
        "zeroes = torch.zeros(3,4)\n",
        "zeroes"
      ],
      "metadata": {
        "colab": {
          "base_uri": "https://localhost:8080/"
        },
        "id": "HoHwpAh4wsXy",
        "outputId": "48180383-e275-46f9-fb77-165fa2b7d095"
      },
      "execution_count": 21,
      "outputs": [
        {
          "output_type": "execute_result",
          "data": {
            "text/plain": [
              "tensor([[0., 0., 0., 0.],\n",
              "        [0., 0., 0., 0.],\n",
              "        [0., 0., 0., 0.]])"
            ]
          },
          "metadata": {},
          "execution_count": 21
        }
      ]
    },
    {
      "cell_type": "code",
      "source": [
        "zeroes*random_tensor"
      ],
      "metadata": {
        "colab": {
          "base_uri": "https://localhost:8080/"
        },
        "id": "onR3GMlkwsU0",
        "outputId": "9f0dfd5c-c763-4f98-972a-b82a6f9ed184"
      },
      "execution_count": 22,
      "outputs": [
        {
          "output_type": "execute_result",
          "data": {
            "text/plain": [
              "tensor([[0., 0., 0., 0.],\n",
              "        [0., 0., 0., 0.],\n",
              "        [0., 0., 0., 0.]])"
            ]
          },
          "metadata": {},
          "execution_count": 22
        }
      ]
    },
    {
      "cell_type": "code",
      "source": [
        "#ones\n",
        "ones = torch.ones(3,4)\n",
        "ones"
      ],
      "metadata": {
        "colab": {
          "base_uri": "https://localhost:8080/"
        },
        "id": "J6Y7X_rW10Py",
        "outputId": "7635549c-95c4-4d7a-c535-da7a68332894"
      },
      "execution_count": 23,
      "outputs": [
        {
          "output_type": "execute_result",
          "data": {
            "text/plain": [
              "tensor([[1., 1., 1., 1.],\n",
              "        [1., 1., 1., 1.],\n",
              "        [1., 1., 1., 1.]])"
            ]
          },
          "metadata": {},
          "execution_count": 23
        }
      ]
    },
    {
      "cell_type": "code",
      "source": [
        "ones.dtype"
      ],
      "metadata": {
        "colab": {
          "base_uri": "https://localhost:8080/"
        },
        "id": "N6WX8g0B10Me",
        "outputId": "f67f9ce7-25ef-4f0d-e0b6-50344d3e0a45"
      },
      "execution_count": 24,
      "outputs": [
        {
          "output_type": "execute_result",
          "data": {
            "text/plain": [
              "torch.float32"
            ]
          },
          "metadata": {},
          "execution_count": 24
        }
      ]
    },
    {
      "cell_type": "markdown",
      "source": [
        "### Creating a range of tensors and tensors-like"
      ],
      "metadata": {
        "id": "oWVNVOc310Jl"
      }
    },
    {
      "cell_type": "code",
      "source": [
        "#Use torch.range() or torch.arange() **for future versions of pytorch\n",
        "torch.range(0,10)\n"
      ],
      "metadata": {
        "colab": {
          "base_uri": "https://localhost:8080/"
        },
        "id": "XTaLHZTB2feP",
        "outputId": "f0315769-b533-4f51-e046-5b34b7001ece"
      },
      "execution_count": 25,
      "outputs": [
        {
          "output_type": "stream",
          "name": "stderr",
          "text": [
            "/tmp/ipython-input-774183273.py:2: UserWarning: torch.range is deprecated and will be removed in a future release because its behavior is inconsistent with Python's range builtin. Instead, use torch.arange, which produces values in [start, end).\n",
            "  torch.range(0,10)\n"
          ]
        },
        {
          "output_type": "execute_result",
          "data": {
            "text/plain": [
              "tensor([ 0.,  1.,  2.,  3.,  4.,  5.,  6.,  7.,  8.,  9., 10.])"
            ]
          },
          "metadata": {},
          "execution_count": 25
        }
      ]
    },
    {
      "cell_type": "code",
      "source": [
        "one_to_11= torch.arange(1,11)\n",
        "one_to_11"
      ],
      "metadata": {
        "colab": {
          "base_uri": "https://localhost:8080/"
        },
        "id": "Ql_g8Np23y-u",
        "outputId": "6317cc1d-b1da-4198-aeee-d5cac43ad46f"
      },
      "execution_count": 26,
      "outputs": [
        {
          "output_type": "execute_result",
          "data": {
            "text/plain": [
              "tensor([ 1,  2,  3,  4,  5,  6,  7,  8,  9, 10])"
            ]
          },
          "metadata": {},
          "execution_count": 26
        }
      ]
    },
    {
      "cell_type": "code",
      "source": [
        "torch.__version__"
      ],
      "metadata": {
        "colab": {
          "base_uri": "https://localhost:8080/",
          "height": 35
        },
        "id": "RwICQ3KV2fXQ",
        "outputId": "d7c6644e-17b0-49ea-bc1a-1bdf83ca6fc1"
      },
      "execution_count": 27,
      "outputs": [
        {
          "output_type": "execute_result",
          "data": {
            "text/plain": [
              "'2.8.0+cu126'"
            ],
            "application/vnd.google.colaboratory.intrinsic+json": {
              "type": "string"
            }
          },
          "metadata": {},
          "execution_count": 27
        }
      ]
    },
    {
      "cell_type": "code",
      "source": [
        "one_to_11= torch.arange(1,1000,20)\n",
        "one_to_11"
      ],
      "metadata": {
        "colab": {
          "base_uri": "https://localhost:8080/"
        },
        "id": "TIJZ7haq37uJ",
        "outputId": "f6639468-97a6-49c2-8ab4-b8e52afaa214"
      },
      "execution_count": 28,
      "outputs": [
        {
          "output_type": "execute_result",
          "data": {
            "text/plain": [
              "tensor([  1,  21,  41,  61,  81, 101, 121, 141, 161, 181, 201, 221, 241, 261,\n",
              "        281, 301, 321, 341, 361, 381, 401, 421, 441, 461, 481, 501, 521, 541,\n",
              "        561, 581, 601, 621, 641, 661, 681, 701, 721, 741, 761, 781, 801, 821,\n",
              "        841, 861, 881, 901, 921, 941, 961, 981])"
            ]
          },
          "metadata": {},
          "execution_count": 28
        }
      ]
    },
    {
      "cell_type": "code",
      "source": [
        "one_to_11= torch.arange(start = 0, end= 1000, step =50)\n",
        "one_to_11"
      ],
      "metadata": {
        "colab": {
          "base_uri": "https://localhost:8080/"
        },
        "id": "osPXww5Z37rZ",
        "outputId": "8c166e49-6cbf-43f8-9a41-da0a427b3552"
      },
      "execution_count": 29,
      "outputs": [
        {
          "output_type": "execute_result",
          "data": {
            "text/plain": [
              "tensor([  0,  50, 100, 150, 200, 250, 300, 350, 400, 450, 500, 550, 600, 650,\n",
              "        700, 750, 800, 850, 900, 950])"
            ]
          },
          "metadata": {},
          "execution_count": 29
        }
      ]
    },
    {
      "cell_type": "code",
      "source": [
        "# Creating tensors like\n",
        "eleven_zeroes = torch.zeros_like(input= one_to_11)\n",
        "eleven_zeroes\n"
      ],
      "metadata": {
        "colab": {
          "base_uri": "https://localhost:8080/"
        },
        "id": "gi9ivkI_2fUY",
        "outputId": "2e4b3ba4-99d3-478f-c535-2a17b8609ab1"
      },
      "execution_count": 30,
      "outputs": [
        {
          "output_type": "execute_result",
          "data": {
            "text/plain": [
              "tensor([0, 0, 0, 0, 0, 0, 0, 0, 0, 0, 0, 0, 0, 0, 0, 0, 0, 0, 0, 0])"
            ]
          },
          "metadata": {},
          "execution_count": 30
        }
      ]
    },
    {
      "cell_type": "markdown",
      "source": [
        "### Tensor Datatype"
      ],
      "metadata": {
        "id": "yp-67a_p6CLb"
      }
    },
    {
      "cell_type": "code",
      "source": [
        "# Float 32 tensor\n",
        "\n",
        "float_32_tensor =  torch.tensor([3,6,9.0],\n",
        "                                dtype = None, # what datatype is the tensor (e.g: Float32/Float16 etc.)\n",
        "                                device= None,  # What device is your tensor on (cpu, gpu etc.)\n",
        "                                requires_grad= False)  # whether or not to track gradients with this tensors operations\n",
        "float_32_tensor\n",
        "float_32_tensor.dtype\n"
      ],
      "metadata": {
        "colab": {
          "base_uri": "https://localhost:8080/"
        },
        "id": "ivq1SUzz6CIW",
        "outputId": "8c2541df-fa33-4977-c442-e5a8cc73bf2c"
      },
      "execution_count": 31,
      "outputs": [
        {
          "output_type": "execute_result",
          "data": {
            "text/plain": [
              "torch.float32"
            ]
          },
          "metadata": {},
          "execution_count": 31
        }
      ]
    },
    {
      "cell_type": "code",
      "source": [
        "float_16_tensor = float_32_tensor.type(torch.half)\n",
        "float_16_tensor"
      ],
      "metadata": {
        "colab": {
          "base_uri": "https://localhost:8080/"
        },
        "id": "uG42j1dd6CFi",
        "outputId": "e8f59af3-91e2-4523-9e1b-1c74644c64ca"
      },
      "execution_count": 32,
      "outputs": [
        {
          "output_type": "execute_result",
          "data": {
            "text/plain": [
              "tensor([3., 6., 9.], dtype=torch.float16)"
            ]
          },
          "metadata": {},
          "execution_count": 32
        }
      ]
    },
    {
      "cell_type": "code",
      "source": [
        "int_64_tensor = torch.tensor([6,9,5], dtype = torch.int64)\n",
        "int_64_tensor"
      ],
      "metadata": {
        "colab": {
          "base_uri": "https://localhost:8080/"
        },
        "id": "TDfBxvB64nVE",
        "outputId": "3ebca009-2679-4498-93f6-423324dc642d"
      },
      "execution_count": 33,
      "outputs": [
        {
          "output_type": "execute_result",
          "data": {
            "text/plain": [
              "tensor([6, 9, 5])"
            ]
          },
          "metadata": {},
          "execution_count": 33
        }
      ]
    },
    {
      "cell_type": "code",
      "source": [
        "int_64_tensor * float_16_tensor"
      ],
      "metadata": {
        "colab": {
          "base_uri": "https://localhost:8080/"
        },
        "id": "7JkLnksA4nEt",
        "outputId": "de477dbe-3bc4-4e48-e199-a024740f496b"
      },
      "execution_count": 34,
      "outputs": [
        {
          "output_type": "execute_result",
          "data": {
            "text/plain": [
              "tensor([18., 54., 45.], dtype=torch.float16)"
            ]
          },
          "metadata": {},
          "execution_count": 34
        }
      ]
    },
    {
      "cell_type": "markdown",
      "source": [
        "### Getting info from tensors (Tensor Attributes)\n",
        "Tensors not right datatype - to get datatype from a tensor, can use `tensor.dtype`\n",
        "\n",
        "Tensors not right shape -  to get shape from a tensor, can use `tensor.shape`\n",
        "\n",
        "Tensors not on the right device - to get device from a tensor, can use `tensor.device`"
      ],
      "metadata": {
        "id": "9c_JUvf14nBb"
      }
    },
    {
      "cell_type": "code",
      "source": [
        "# Create a tensor\n",
        "some_tensor  = torch.rand([3,4])\n",
        "some_tensor.device"
      ],
      "metadata": {
        "colab": {
          "base_uri": "https://localhost:8080/"
        },
        "id": "1ezKaJVJ4m-k",
        "outputId": "80a9ea27-f42c-4e83-ef5e-6e8e1471e015"
      },
      "execution_count": 35,
      "outputs": [
        {
          "output_type": "execute_result",
          "data": {
            "text/plain": [
              "device(type='cpu')"
            ]
          },
          "metadata": {},
          "execution_count": 35
        }
      ]
    },
    {
      "cell_type": "code",
      "source": [
        "# Find info from the tensor\n",
        "\n",
        "print(some_tensor)\n",
        "print(f\"Datatype of tensor - {some_tensor.dtype}\")\n",
        "print(f\"Shape of tensor - {some_tensor.shape}\")\n",
        "print(f\"Size of tensor - {some_tensor.size()}\")   # shape & size returns the same but size is a function n shape is attribute\n",
        "print(f\"Device of tensor - {some_tensor.device}\")\n"
      ],
      "metadata": {
        "colab": {
          "base_uri": "https://localhost:8080/"
        },
        "id": "17KJd8sd62b6",
        "outputId": "5be44b76-257f-4d05-e2bc-51fd8b4f9038"
      },
      "execution_count": 36,
      "outputs": [
        {
          "output_type": "stream",
          "name": "stdout",
          "text": [
            "tensor([[0.0262, 0.4779, 0.1970, 0.5805],\n",
            "        [0.4022, 0.6501, 0.1033, 0.0683],\n",
            "        [0.2845, 0.4395, 0.9721, 0.4192]])\n",
            "Datatype of tensor - torch.float32\n",
            "Shape of tensor - torch.Size([3, 4])\n",
            "Size of tensor - torch.Size([3, 4])\n",
            "Device of tensor - cpu\n"
          ]
        }
      ]
    },
    {
      "cell_type": "markdown",
      "source": [
        "### Manipulating Tensors (tensor operations)\n",
        "\n",
        "Tensor operations include:\n",
        "\n",
        "1. Addition\n",
        "2. Subtraction\n",
        "3. Multiplication (element-wise)\n",
        "4. Division\n",
        "5. Matrix multiplication"
      ],
      "metadata": {
        "id": "bCLpN01e62ZA"
      }
    },
    {
      "cell_type": "code",
      "source": [
        "tensor  = torch.tensor([1,2,3])\n",
        "tensor + 10"
      ],
      "metadata": {
        "colab": {
          "base_uri": "https://localhost:8080/"
        },
        "id": "nZ6XtFCL8Y52",
        "outputId": "86f0cda3-5af8-40cf-fa81-5153e5b37422"
      },
      "execution_count": 37,
      "outputs": [
        {
          "output_type": "execute_result",
          "data": {
            "text/plain": [
              "tensor([11, 12, 13])"
            ]
          },
          "metadata": {},
          "execution_count": 37
        }
      ]
    },
    {
      "cell_type": "code",
      "source": [
        "tensor * 10"
      ],
      "metadata": {
        "colab": {
          "base_uri": "https://localhost:8080/"
        },
        "id": "vv4_b_838Y2X",
        "outputId": "1cef7ad1-9378-40ea-b63e-bb527eece080"
      },
      "execution_count": 38,
      "outputs": [
        {
          "output_type": "execute_result",
          "data": {
            "text/plain": [
              "tensor([10, 20, 30])"
            ]
          },
          "metadata": {},
          "execution_count": 38
        }
      ]
    },
    {
      "cell_type": "code",
      "source": [
        "tensor - 10"
      ],
      "metadata": {
        "colab": {
          "base_uri": "https://localhost:8080/"
        },
        "id": "3u1IEWnD8Yy7",
        "outputId": "695d3058-b417-48b8-98b7-dc29379735c4"
      },
      "execution_count": 39,
      "outputs": [
        {
          "output_type": "execute_result",
          "data": {
            "text/plain": [
              "tensor([-9, -8, -7])"
            ]
          },
          "metadata": {},
          "execution_count": 39
        }
      ]
    },
    {
      "cell_type": "code",
      "source": [
        "# pytorch in-built functions\n",
        "torch.mul(tensor, 10)"
      ],
      "metadata": {
        "colab": {
          "base_uri": "https://localhost:8080/"
        },
        "id": "Ndua_wHu8Ysu",
        "outputId": "10daed40-a253-4032-b23d-bba5e39a7b47"
      },
      "execution_count": 40,
      "outputs": [
        {
          "output_type": "execute_result",
          "data": {
            "text/plain": [
              "tensor([10, 20, 30])"
            ]
          },
          "metadata": {},
          "execution_count": 40
        }
      ]
    },
    {
      "cell_type": "code",
      "source": [
        "torch.add(tensor, 10)"
      ],
      "metadata": {
        "colab": {
          "base_uri": "https://localhost:8080/"
        },
        "id": "oudY-0Cn_cHU",
        "outputId": "1708d8ed-e848-41d3-ac88-085a010f122d"
      },
      "execution_count": 41,
      "outputs": [
        {
          "output_type": "execute_result",
          "data": {
            "text/plain": [
              "tensor([11, 12, 13])"
            ]
          },
          "metadata": {},
          "execution_count": 41
        }
      ]
    },
    {
      "cell_type": "markdown",
      "source": [
        "### Matrix multiplication\n",
        "\n",
        "Two main ways of performing multiplication in neural networks and deep learning\n",
        "\n",
        "1. Element-wise &\n",
        "\n",
        "2. Matrix multiplication (dot product)\n"
      ],
      "metadata": {
        "id": "3CPz8CeG_cAj"
      }
    },
    {
      "cell_type": "code",
      "source": [
        "# element-wise multiplication\n",
        "print(tensor, \"*\",  tensor)\n",
        "print(tensor*tensor)"
      ],
      "metadata": {
        "colab": {
          "base_uri": "https://localhost:8080/"
        },
        "id": "39DmcQrm_b93",
        "outputId": "8a40dc54-8d4a-4233-9806-cbb0401225fb"
      },
      "execution_count": 56,
      "outputs": [
        {
          "output_type": "stream",
          "name": "stdout",
          "text": [
            "tensor([1, 2, 3]) * tensor([1, 2, 3])\n",
            "tensor([1, 4, 9])\n"
          ]
        }
      ]
    },
    {
      "cell_type": "code",
      "source": [
        "# Matrix multiplication\n",
        "torch.matmul(tensor, tensor)"
      ],
      "metadata": {
        "colab": {
          "base_uri": "https://localhost:8080/"
        },
        "id": "3KifpNqL_b64",
        "outputId": "31468408-df9f-4482-d992-15c0c294cebf"
      },
      "execution_count": 57,
      "outputs": [
        {
          "output_type": "execute_result",
          "data": {
            "text/plain": [
              "tensor(14)"
            ]
          },
          "metadata": {},
          "execution_count": 57
        }
      ]
    },
    {
      "cell_type": "code",
      "source": [
        "# Matrix multiplicaation by hand & the time difference between manual coding and inbuilt function\n",
        "1*1 + 2*2 + 3*3"
      ],
      "metadata": {
        "colab": {
          "base_uri": "https://localhost:8080/"
        },
        "id": "dsjIoBKqAmf8",
        "outputId": "6e52a2b6-e189-4795-a13d-93950bd23921"
      },
      "execution_count": 44,
      "outputs": [
        {
          "output_type": "execute_result",
          "data": {
            "text/plain": [
              "14"
            ]
          },
          "metadata": {},
          "execution_count": 44
        }
      ]
    },
    {
      "cell_type": "code",
      "source": [
        "%%time\n",
        "mul = sum([tensor[i]*tensor[i] for i in range(len(tensor))])\n",
        "mul"
      ],
      "metadata": {
        "colab": {
          "base_uri": "https://localhost:8080/"
        },
        "id": "JlxJLmYWxB83",
        "outputId": "4fe5e7fb-e1fa-4ff4-eece-cc23e14eb5ae"
      },
      "execution_count": 45,
      "outputs": [
        {
          "output_type": "stream",
          "name": "stdout",
          "text": [
            "CPU times: user 1.16 ms, sys: 0 ns, total: 1.16 ms\n",
            "Wall time: 1.25 ms\n"
          ]
        },
        {
          "output_type": "execute_result",
          "data": {
            "text/plain": [
              "tensor(14)"
            ]
          },
          "metadata": {},
          "execution_count": 45
        }
      ]
    },
    {
      "cell_type": "code",
      "source": [
        "%%time\n",
        "value = 0\n",
        "for i in range(len(tensor)):\n",
        "  value += tensor[i] * tensor[i]\n",
        "print(value)"
      ],
      "metadata": {
        "colab": {
          "base_uri": "https://localhost:8080/"
        },
        "id": "Jlsx4nPyDoV4",
        "outputId": "b0a4c051-2862-43a3-a7cb-4a4e242029c8"
      },
      "execution_count": 46,
      "outputs": [
        {
          "output_type": "stream",
          "name": "stdout",
          "text": [
            "tensor(14)\n",
            "CPU times: user 1.63 ms, sys: 0 ns, total: 1.63 ms\n",
            "Wall time: 1.73 ms\n"
          ]
        }
      ]
    },
    {
      "cell_type": "code",
      "source": [
        "%%time\n",
        "torch.matmul(tensor, tensor)"
      ],
      "metadata": {
        "colab": {
          "base_uri": "https://localhost:8080/"
        },
        "id": "YkjjFSrHDoTA",
        "outputId": "3693b0c5-e1f0-473b-84b5-608b20a2f3c0"
      },
      "execution_count": 47,
      "outputs": [
        {
          "output_type": "stream",
          "name": "stdout",
          "text": [
            "CPU times: user 536 µs, sys: 79 µs, total: 615 µs\n",
            "Wall time: 1.17 ms\n"
          ]
        },
        {
          "output_type": "execute_result",
          "data": {
            "text/plain": [
              "tensor(14)"
            ]
          },
          "metadata": {},
          "execution_count": 47
        }
      ]
    },
    {
      "cell_type": "code",
      "source": [
        "# shape errors note: inner dimentions must match\n",
        "torch.matmul(torch.rand(3,2), torch.rand(3,2))  # inner dims not maatch\n"
      ],
      "metadata": {
        "colab": {
          "base_uri": "https://localhost:8080/",
          "height": 159
        },
        "id": "whTIsflnDoQK",
        "outputId": "8cfe1ff5-b5a1-47ce-8bf7-aed209237705"
      },
      "execution_count": 48,
      "outputs": [
        {
          "output_type": "error",
          "ename": "RuntimeError",
          "evalue": "mat1 and mat2 shapes cannot be multiplied (3x2 and 3x2)",
          "traceback": [
            "\u001b[0;31m---------------------------------------------------------------------------\u001b[0m",
            "\u001b[0;31mRuntimeError\u001b[0m                              Traceback (most recent call last)",
            "\u001b[0;32m/tmp/ipython-input-2652448931.py\u001b[0m in \u001b[0;36m<cell line: 0>\u001b[0;34m()\u001b[0m\n\u001b[1;32m      1\u001b[0m \u001b[0;31m# shape errors note: inner dimentions must match\u001b[0m\u001b[0;34m\u001b[0m\u001b[0;34m\u001b[0m\u001b[0m\n\u001b[0;32m----> 2\u001b[0;31m \u001b[0mtorch\u001b[0m\u001b[0;34m.\u001b[0m\u001b[0mmatmul\u001b[0m\u001b[0;34m(\u001b[0m\u001b[0mtorch\u001b[0m\u001b[0;34m.\u001b[0m\u001b[0mrand\u001b[0m\u001b[0;34m(\u001b[0m\u001b[0;36m3\u001b[0m\u001b[0;34m,\u001b[0m\u001b[0;36m2\u001b[0m\u001b[0;34m)\u001b[0m\u001b[0;34m,\u001b[0m \u001b[0mtorch\u001b[0m\u001b[0;34m.\u001b[0m\u001b[0mrand\u001b[0m\u001b[0;34m(\u001b[0m\u001b[0;36m3\u001b[0m\u001b[0;34m,\u001b[0m\u001b[0;36m2\u001b[0m\u001b[0;34m)\u001b[0m\u001b[0;34m)\u001b[0m  \u001b[0;31m# inner dims not maatch\u001b[0m\u001b[0;34m\u001b[0m\u001b[0;34m\u001b[0m\u001b[0m\n\u001b[0m",
            "\u001b[0;31mRuntimeError\u001b[0m: mat1 and mat2 shapes cannot be multiplied (3x2 and 3x2)"
          ]
        }
      ]
    },
    {
      "cell_type": "code",
      "source": [
        "torch.matmul(torch.rand(3,2), torch.rand(2,3))   # inner dims match"
      ],
      "metadata": {
        "id": "7NkPDDJDKkLB",
        "colab": {
          "base_uri": "https://localhost:8080/"
        },
        "outputId": "5c20ad06-923a-47bc-a399-f50e824af649"
      },
      "execution_count": 54,
      "outputs": [
        {
          "output_type": "execute_result",
          "data": {
            "text/plain": [
              "tensor([[0.1611, 0.2938, 0.5046],\n",
              "        [0.3642, 0.3779, 0.2760],\n",
              "        [0.2391, 0.3105, 0.3696]])"
            ]
          },
          "metadata": {},
          "execution_count": 54
        }
      ]
    },
    {
      "cell_type": "code",
      "source": [
        "torch.matmul(torch.rand(3,2), torch.rand(2,3)).shape  # The resulting Matrix has the shape of the outer dimentions"
      ],
      "metadata": {
        "id": "5gndh3tBKkID",
        "colab": {
          "base_uri": "https://localhost:8080/"
        },
        "outputId": "03a860f5-2550-44f4-f206-9cb8f7b59343"
      },
      "execution_count": 58,
      "outputs": [
        {
          "output_type": "execute_result",
          "data": {
            "text/plain": [
              "torch.Size([3, 3])"
            ]
          },
          "metadata": {},
          "execution_count": 58
        }
      ]
    },
    {
      "cell_type": "markdown",
      "source": [
        "### One of the most common errors in deep learning : shape errors"
      ],
      "metadata": {
        "id": "bh18jvIHKkFQ"
      }
    },
    {
      "cell_type": "code",
      "source": [
        "# shapes for matrix multiplication\n",
        "\n",
        "tensor_a = torch.tensor([[1,2],\n",
        "                        [3,4],\n",
        "                        [5,6]])\n",
        "tensor_b = torch.tensor([[7,8],\n",
        "                        [9,12],\n",
        "                        [7,16]])\n",
        "\n",
        "torch.mm(tensor_a, tensor_b)    # torch.mm is an alias of torch.matmul  # here the inner dims not match"
      ],
      "metadata": {
        "id": "N-ATsQcrKkCX",
        "colab": {
          "base_uri": "https://localhost:8080/",
          "height": 176
        },
        "outputId": "5c82defd-bd89-43fb-8fdb-377ba374cc8c"
      },
      "execution_count": 59,
      "outputs": [
        {
          "output_type": "error",
          "ename": "RuntimeError",
          "evalue": "mat1 and mat2 shapes cannot be multiplied (3x2 and 3x2)",
          "traceback": [
            "\u001b[0;31m---------------------------------------------------------------------------\u001b[0m",
            "\u001b[0;31mRuntimeError\u001b[0m                              Traceback (most recent call last)",
            "\u001b[0;32m/tmp/ipython-input-1034456822.py\u001b[0m in \u001b[0;36m<cell line: 0>\u001b[0;34m()\u001b[0m\n\u001b[1;32m      8\u001b[0m                         [7,16]])\n\u001b[1;32m      9\u001b[0m \u001b[0;34m\u001b[0m\u001b[0m\n\u001b[0;32m---> 10\u001b[0;31m \u001b[0mtorch\u001b[0m\u001b[0;34m.\u001b[0m\u001b[0mmm\u001b[0m\u001b[0;34m(\u001b[0m\u001b[0mtensor_a\u001b[0m\u001b[0;34m,\u001b[0m \u001b[0mtensor_b\u001b[0m\u001b[0;34m)\u001b[0m    \u001b[0;31m# torch.mm is an alias of torch.matmul  # here the inner dims not match\u001b[0m\u001b[0;34m\u001b[0m\u001b[0;34m\u001b[0m\u001b[0m\n\u001b[0m",
            "\u001b[0;31mRuntimeError\u001b[0m: mat1 and mat2 shapes cannot be multiplied (3x2 and 3x2)"
          ]
        }
      ]
    },
    {
      "cell_type": "code",
      "source": [
        "tensor_a.shape, tensor_b.shape"
      ],
      "metadata": {
        "id": "K6j6og9pTWxg",
        "colab": {
          "base_uri": "https://localhost:8080/"
        },
        "outputId": "2aacba70-5224-4bcf-a0df-cc3448915a75"
      },
      "execution_count": 60,
      "outputs": [
        {
          "output_type": "execute_result",
          "data": {
            "text/plain": [
              "(torch.Size([3, 2]), torch.Size([3, 2]))"
            ]
          },
          "metadata": {},
          "execution_count": 60
        }
      ]
    },
    {
      "cell_type": "markdown",
      "source": [
        "To fix our tensor shape issues, we can manipulate the shape of one of our tensors using a *transpose*"
      ],
      "metadata": {
        "id": "uCSiI14jTWuu"
      }
    },
    {
      "cell_type": "code",
      "source": [
        "tensor_b"
      ],
      "metadata": {
        "id": "OlUva2JWTWsA",
        "colab": {
          "base_uri": "https://localhost:8080/"
        },
        "outputId": "a21f258e-42b2-43a6-80f3-b52eee1e3349"
      },
      "execution_count": 61,
      "outputs": [
        {
          "output_type": "execute_result",
          "data": {
            "text/plain": [
              "tensor([[ 7,  8],\n",
              "        [ 9, 12],\n",
              "        [ 7, 16]])"
            ]
          },
          "metadata": {},
          "execution_count": 61
        }
      ]
    },
    {
      "cell_type": "code",
      "source": [
        "tensor_b.T, tensor_b.T.shape    # the .T is for the transpose here"
      ],
      "metadata": {
        "id": "zA8zYVNdTWpI",
        "colab": {
          "base_uri": "https://localhost:8080/"
        },
        "outputId": "fe09afbf-b6db-46dc-d209-6a1d8051b53f"
      },
      "execution_count": 62,
      "outputs": [
        {
          "output_type": "execute_result",
          "data": {
            "text/plain": [
              "(tensor([[ 7,  9,  7],\n",
              "         [ 8, 12, 16]]),\n",
              " torch.Size([2, 3]))"
            ]
          },
          "metadata": {},
          "execution_count": 62
        }
      ]
    },
    {
      "cell_type": "code",
      "source": [
        "torch.mm(tensor_a, tensor_b.T)"
      ],
      "metadata": {
        "id": "Q0jKmcT7Uiuq",
        "colab": {
          "base_uri": "https://localhost:8080/"
        },
        "outputId": "fa5e2c25-c79c-4e01-cb71-4b21c9fd4135"
      },
      "execution_count": 63,
      "outputs": [
        {
          "output_type": "execute_result",
          "data": {
            "text/plain": [
              "tensor([[ 23,  33,  39],\n",
              "        [ 53,  75,  85],\n",
              "        [ 83, 117, 131]])"
            ]
          },
          "metadata": {},
          "execution_count": 63
        }
      ]
    },
    {
      "cell_type": "code",
      "source": [
        "torch.mm(tensor_a, tensor_b.T).shape"
      ],
      "metadata": {
        "id": "NALlcNauUiry",
        "colab": {
          "base_uri": "https://localhost:8080/"
        },
        "outputId": "cf01bf89-ed71-452e-8d7b-65f85b259c7f"
      },
      "execution_count": 64,
      "outputs": [
        {
          "output_type": "execute_result",
          "data": {
            "text/plain": [
              "torch.Size([3, 3])"
            ]
          },
          "metadata": {},
          "execution_count": 64
        }
      ]
    },
    {
      "cell_type": "markdown",
      "source": [
        "### Finding the min, max, mean, sum, etc(tensor aggregation)"
      ],
      "metadata": {
        "id": "TcqnuWPFUipE"
      }
    },
    {
      "cell_type": "code",
      "source": [
        "x = torch.arange(1,100,10)\n",
        "x"
      ],
      "metadata": {
        "id": "jdynjM3RXQDo",
        "colab": {
          "base_uri": "https://localhost:8080/"
        },
        "outputId": "aa1d32b2-62f9-45eb-a962-ba0bfef4bdf2"
      },
      "execution_count": 65,
      "outputs": [
        {
          "output_type": "execute_result",
          "data": {
            "text/plain": [
              "tensor([ 1, 11, 21, 31, 41, 51, 61, 71, 81, 91])"
            ]
          },
          "metadata": {},
          "execution_count": 65
        }
      ]
    },
    {
      "cell_type": "code",
      "source": [
        "x.dtype"
      ],
      "metadata": {
        "id": "8aANW3g-Zd97",
        "colab": {
          "base_uri": "https://localhost:8080/"
        },
        "outputId": "a6192577-803d-4013-cd30-3645855cebf9"
      },
      "execution_count": 66,
      "outputs": [
        {
          "output_type": "execute_result",
          "data": {
            "text/plain": [
              "torch.int64"
            ]
          },
          "metadata": {},
          "execution_count": 66
        }
      ]
    },
    {
      "cell_type": "code",
      "source": [
        "torch.min(x), x.min()"
      ],
      "metadata": {
        "id": "By7VoSfKXQAk",
        "colab": {
          "base_uri": "https://localhost:8080/"
        },
        "outputId": "99a02389-0ead-4b99-daef-d29b28dfeca6"
      },
      "execution_count": 67,
      "outputs": [
        {
          "output_type": "execute_result",
          "data": {
            "text/plain": [
              "(tensor(1), tensor(1))"
            ]
          },
          "metadata": {},
          "execution_count": 67
        }
      ]
    },
    {
      "cell_type": "code",
      "source": [
        "torch.max(x), x.max()"
      ],
      "metadata": {
        "id": "mLo_PHUDXP9z",
        "colab": {
          "base_uri": "https://localhost:8080/"
        },
        "outputId": "75de23f5-ed10-4096-9b5e-bdab12b7c413"
      },
      "execution_count": 68,
      "outputs": [
        {
          "output_type": "execute_result",
          "data": {
            "text/plain": [
              "(tensor(91), tensor(91))"
            ]
          },
          "metadata": {},
          "execution_count": 68
        }
      ]
    },
    {
      "cell_type": "code",
      "source": [
        "torch.mean(x), x.mean()"
      ],
      "metadata": {
        "id": "0E7lop_9ZLCe",
        "colab": {
          "base_uri": "https://localhost:8080/",
          "height": 141
        },
        "outputId": "8ffa9d5b-0c26-4942-dfe2-c266bd306733"
      },
      "execution_count": 69,
      "outputs": [
        {
          "output_type": "error",
          "ename": "RuntimeError",
          "evalue": "mean(): could not infer output dtype. Input dtype must be either a floating point or complex dtype. Got: Long",
          "traceback": [
            "\u001b[0;31m---------------------------------------------------------------------------\u001b[0m",
            "\u001b[0;31mRuntimeError\u001b[0m                              Traceback (most recent call last)",
            "\u001b[0;32m/tmp/ipython-input-1844178559.py\u001b[0m in \u001b[0;36m<cell line: 0>\u001b[0;34m()\u001b[0m\n\u001b[0;32m----> 1\u001b[0;31m \u001b[0mtorch\u001b[0m\u001b[0;34m.\u001b[0m\u001b[0mmean\u001b[0m\u001b[0;34m(\u001b[0m\u001b[0mx\u001b[0m\u001b[0;34m)\u001b[0m\u001b[0;34m,\u001b[0m \u001b[0mx\u001b[0m\u001b[0;34m.\u001b[0m\u001b[0mmean\u001b[0m\u001b[0;34m(\u001b[0m\u001b[0;34m)\u001b[0m\u001b[0;34m\u001b[0m\u001b[0;34m\u001b[0m\u001b[0m\n\u001b[0m",
            "\u001b[0;31mRuntimeError\u001b[0m: mean(): could not infer output dtype. Input dtype must be either a floating point or complex dtype. Got: Long"
          ]
        }
      ]
    },
    {
      "cell_type": "code",
      "source": [
        "# torch.mean() requires a tensor of float32 datatype to work\n",
        "torch.mean(x.type(torch.float32)), x.type(torch.float32).mean()"
      ],
      "metadata": {
        "id": "29q-zzU-ZK_k",
        "colab": {
          "base_uri": "https://localhost:8080/"
        },
        "outputId": "cf7207cc-873d-4002-c8fc-6f761ad50cfc"
      },
      "execution_count": 70,
      "outputs": [
        {
          "output_type": "execute_result",
          "data": {
            "text/plain": [
              "(tensor(46.), tensor(46.))"
            ]
          },
          "metadata": {},
          "execution_count": 70
        }
      ]
    },
    {
      "cell_type": "code",
      "source": [
        "torch.sum(x), x.sum()"
      ],
      "metadata": {
        "id": "HZjVdGvvZK8u",
        "colab": {
          "base_uri": "https://localhost:8080/"
        },
        "outputId": "9163164c-a829-44dd-ba0d-7073a526f86f"
      },
      "execution_count": 71,
      "outputs": [
        {
          "output_type": "execute_result",
          "data": {
            "text/plain": [
              "(tensor(460), tensor(460))"
            ]
          },
          "metadata": {},
          "execution_count": 71
        }
      ]
    },
    {
      "cell_type": "markdown",
      "source": [
        "### Finding the positional min and max"
      ],
      "metadata": {
        "id": "5oCyV0gyBnu1"
      }
    },
    {
      "cell_type": "code",
      "source": [
        "x"
      ],
      "metadata": {
        "id": "gwYI6Hr2CYYf",
        "colab": {
          "base_uri": "https://localhost:8080/"
        },
        "outputId": "b765ad37-f265-4595-8405-87839c517b2c"
      },
      "execution_count": 72,
      "outputs": [
        {
          "output_type": "execute_result",
          "data": {
            "text/plain": [
              "tensor([ 1, 11, 21, 31, 41, 51, 61, 71, 81, 91])"
            ]
          },
          "metadata": {},
          "execution_count": 72
        }
      ]
    },
    {
      "cell_type": "code",
      "source": [
        "# Find the position in tensor that has the minimum value with argmin() -> returns the index position of target tensor where the minimum value occurs\n",
        "x.argmin()"
      ],
      "metadata": {
        "id": "zCDq3zzWbja3",
        "colab": {
          "base_uri": "https://localhost:8080/"
        },
        "outputId": "1a01e388-2047-410c-e31e-553b04d8436e"
      },
      "execution_count": 73,
      "outputs": [
        {
          "output_type": "execute_result",
          "data": {
            "text/plain": [
              "tensor(0)"
            ]
          },
          "metadata": {},
          "execution_count": 73
        }
      ]
    },
    {
      "cell_type": "code",
      "source": [
        "x[0]"
      ],
      "metadata": {
        "id": "ABidLk0RbjYF",
        "colab": {
          "base_uri": "https://localhost:8080/"
        },
        "outputId": "b4db2756-ae05-4799-d196-c0b61c5dec2f"
      },
      "execution_count": 74,
      "outputs": [
        {
          "output_type": "execute_result",
          "data": {
            "text/plain": [
              "tensor(1)"
            ]
          },
          "metadata": {},
          "execution_count": 74
        }
      ]
    },
    {
      "cell_type": "code",
      "source": [
        "# Find the position in tensor that has the maximum value with argmax()\n",
        "x.argmax()"
      ],
      "metadata": {
        "id": "XtA1TxqwbjVM",
        "colab": {
          "base_uri": "https://localhost:8080/"
        },
        "outputId": "7c093f96-1e1f-4b23-fbf1-f4de9e585485"
      },
      "execution_count": 75,
      "outputs": [
        {
          "output_type": "execute_result",
          "data": {
            "text/plain": [
              "tensor(9)"
            ]
          },
          "metadata": {},
          "execution_count": 75
        }
      ]
    },
    {
      "cell_type": "code",
      "source": [
        "x[9]"
      ],
      "metadata": {
        "id": "rnrDTyd9bjST",
        "colab": {
          "base_uri": "https://localhost:8080/"
        },
        "outputId": "f2e2a75a-4952-4548-d0cb-c30c766f0cd7"
      },
      "execution_count": 76,
      "outputs": [
        {
          "output_type": "execute_result",
          "data": {
            "text/plain": [
              "tensor(91)"
            ]
          },
          "metadata": {},
          "execution_count": 76
        }
      ]
    },
    {
      "cell_type": "markdown",
      "source": [
        "# Reshaping, stacking, squeezing, unsqueezing tensors\n",
        "\n",
        "* Reshaping  - reshapes an input to a defined shape\n",
        "* View - Return a view of an input tensor of certain shape but keep the same memory as the original tensor\n",
        "* Stacking -  combine multiple tensors on top of each other (vstack) or side by side (hstack)\n",
        "* Squeeze - removes all `1` dimensions from a tensor\n",
        "* Unsqueeze - add a `1` dimention to a target tensor\n",
        "* Permute -  Return a view of the input with dimentions permuted (swapped) in a certain way"
      ],
      "metadata": {
        "id": "mrhhaF2aDShL"
      }
    },
    {
      "cell_type": "code",
      "source": [
        "import torch\n",
        "x = torch.arange(1.,10.)\n",
        "x, x.shape"
      ],
      "metadata": {
        "id": "YreUJaclDSbo",
        "colab": {
          "base_uri": "https://localhost:8080/"
        },
        "outputId": "a2c48cb4-7e75-4e2a-dc0d-3dabf89649fe"
      },
      "execution_count": 77,
      "outputs": [
        {
          "output_type": "execute_result",
          "data": {
            "text/plain": [
              "(tensor([1., 2., 3., 4., 5., 6., 7., 8., 9.]), torch.Size([9]))"
            ]
          },
          "metadata": {},
          "execution_count": 77
        }
      ]
    },
    {
      "cell_type": "code",
      "source": [
        "# Reshaping\n",
        "x_reshaped = x.reshape(1,7)\n",
        "x_reshaped, x_reshaped.shape"
      ],
      "metadata": {
        "id": "30ecZ89hDSYp",
        "colab": {
          "base_uri": "https://localhost:8080/",
          "height": 176
        },
        "outputId": "a3156631-f36e-4a51-b10f-d44c9ed21f48"
      },
      "execution_count": 78,
      "outputs": [
        {
          "output_type": "error",
          "ename": "RuntimeError",
          "evalue": "shape '[1, 7]' is invalid for input of size 9",
          "traceback": [
            "\u001b[0;31m---------------------------------------------------------------------------\u001b[0m",
            "\u001b[0;31mRuntimeError\u001b[0m                              Traceback (most recent call last)",
            "\u001b[0;32m/tmp/ipython-input-3675850114.py\u001b[0m in \u001b[0;36m<cell line: 0>\u001b[0;34m()\u001b[0m\n\u001b[1;32m      1\u001b[0m \u001b[0;31m# Reshaping\u001b[0m\u001b[0;34m\u001b[0m\u001b[0;34m\u001b[0m\u001b[0m\n\u001b[0;32m----> 2\u001b[0;31m \u001b[0mx_reshaped\u001b[0m \u001b[0;34m=\u001b[0m \u001b[0mx\u001b[0m\u001b[0;34m.\u001b[0m\u001b[0mreshape\u001b[0m\u001b[0;34m(\u001b[0m\u001b[0;36m1\u001b[0m\u001b[0;34m,\u001b[0m\u001b[0;36m7\u001b[0m\u001b[0;34m)\u001b[0m\u001b[0;34m\u001b[0m\u001b[0;34m\u001b[0m\u001b[0m\n\u001b[0m\u001b[1;32m      3\u001b[0m \u001b[0mx_reshaped\u001b[0m\u001b[0;34m,\u001b[0m \u001b[0mx_reshaped\u001b[0m\u001b[0;34m.\u001b[0m\u001b[0mshape\u001b[0m\u001b[0;34m\u001b[0m\u001b[0;34m\u001b[0m\u001b[0m\n",
            "\u001b[0;31mRuntimeError\u001b[0m: shape '[1, 7]' is invalid for input of size 9"
          ]
        }
      ]
    },
    {
      "cell_type": "code",
      "source": [
        "x_reshaped = x.reshape(1,9)\n",
        "x_reshaped, x_reshaped.shape"
      ],
      "metadata": {
        "id": "DKfk60uUDSV2",
        "colab": {
          "base_uri": "https://localhost:8080/"
        },
        "outputId": "045405bb-5b61-488e-8be1-4617a8f24097"
      },
      "execution_count": 79,
      "outputs": [
        {
          "output_type": "execute_result",
          "data": {
            "text/plain": [
              "(tensor([[1., 2., 3., 4., 5., 6., 7., 8., 9.]]), torch.Size([1, 9]))"
            ]
          },
          "metadata": {},
          "execution_count": 79
        }
      ]
    },
    {
      "cell_type": "code",
      "source": [
        "x_reshaped = x.reshape(2,9)\n",
        "x_reshaped"
      ],
      "metadata": {
        "id": "ajcVGQHUFr2b",
        "colab": {
          "base_uri": "https://localhost:8080/",
          "height": 159
        },
        "outputId": "5f644120-855b-444d-8aaa-d823444731e3"
      },
      "execution_count": 80,
      "outputs": [
        {
          "output_type": "error",
          "ename": "RuntimeError",
          "evalue": "shape '[2, 9]' is invalid for input of size 9",
          "traceback": [
            "\u001b[0;31m---------------------------------------------------------------------------\u001b[0m",
            "\u001b[0;31mRuntimeError\u001b[0m                              Traceback (most recent call last)",
            "\u001b[0;32m/tmp/ipython-input-3635585462.py\u001b[0m in \u001b[0;36m<cell line: 0>\u001b[0;34m()\u001b[0m\n\u001b[0;32m----> 1\u001b[0;31m \u001b[0mx_reshaped\u001b[0m \u001b[0;34m=\u001b[0m \u001b[0mx\u001b[0m\u001b[0;34m.\u001b[0m\u001b[0mreshape\u001b[0m\u001b[0;34m(\u001b[0m\u001b[0;36m2\u001b[0m\u001b[0;34m,\u001b[0m\u001b[0;36m9\u001b[0m\u001b[0;34m)\u001b[0m\u001b[0;34m\u001b[0m\u001b[0;34m\u001b[0m\u001b[0m\n\u001b[0m\u001b[1;32m      2\u001b[0m \u001b[0mx_reshaped\u001b[0m\u001b[0;34m\u001b[0m\u001b[0;34m\u001b[0m\u001b[0m\n",
            "\u001b[0;31mRuntimeError\u001b[0m: shape '[2, 9]' is invalid for input of size 9"
          ]
        }
      ]
    },
    {
      "cell_type": "code",
      "source": [
        "x_reshaped = x.reshape(9,1)\n",
        "x_reshaped, x_reshaped.shape"
      ],
      "metadata": {
        "id": "6DBWvhP1Frzi",
        "colab": {
          "base_uri": "https://localhost:8080/"
        },
        "outputId": "a39163bd-4774-475d-adb6-966098064281"
      },
      "execution_count": 81,
      "outputs": [
        {
          "output_type": "execute_result",
          "data": {
            "text/plain": [
              "(tensor([[1.],\n",
              "         [2.],\n",
              "         [3.],\n",
              "         [4.],\n",
              "         [5.],\n",
              "         [6.],\n",
              "         [7.],\n",
              "         [8.],\n",
              "         [9.]]),\n",
              " torch.Size([9, 1]))"
            ]
          },
          "metadata": {},
          "execution_count": 81
        }
      ]
    },
    {
      "cell_type": "code",
      "source": [
        "x = torch.arange(1.,13.)\n",
        "x, x.shape"
      ],
      "metadata": {
        "id": "9lIPISGfFrw6",
        "colab": {
          "base_uri": "https://localhost:8080/"
        },
        "outputId": "12f42f18-2543-47cb-999f-46c4c32e0e76"
      },
      "execution_count": 82,
      "outputs": [
        {
          "output_type": "execute_result",
          "data": {
            "text/plain": [
              "(tensor([ 1.,  2.,  3.,  4.,  5.,  6.,  7.,  8.,  9., 10., 11., 12.]),\n",
              " torch.Size([12]))"
            ]
          },
          "metadata": {},
          "execution_count": 82
        }
      ]
    },
    {
      "cell_type": "code",
      "source": [
        "x_reshaped = x.reshape(3,4)\n",
        "x_reshaped, x_reshaped.shape"
      ],
      "metadata": {
        "id": "4_iTgBKfMtta",
        "colab": {
          "base_uri": "https://localhost:8080/"
        },
        "outputId": "dfff735e-6dbc-49fd-99f7-eb6fff03c037"
      },
      "execution_count": 83,
      "outputs": [
        {
          "output_type": "execute_result",
          "data": {
            "text/plain": [
              "(tensor([[ 1.,  2.,  3.,  4.],\n",
              "         [ 5.,  6.,  7.,  8.],\n",
              "         [ 9., 10., 11., 12.]]),\n",
              " torch.Size([3, 4]))"
            ]
          },
          "metadata": {},
          "execution_count": 83
        }
      ]
    },
    {
      "cell_type": "code",
      "source": [
        "x_reshaped = x.reshape(2,6)\n",
        "x_reshaped, x_reshaped.shape"
      ],
      "metadata": {
        "id": "MhEbRBTtMtjE",
        "colab": {
          "base_uri": "https://localhost:8080/"
        },
        "outputId": "419d5735-85b8-48be-a0a3-e204e8d5fb66"
      },
      "execution_count": 84,
      "outputs": [
        {
          "output_type": "execute_result",
          "data": {
            "text/plain": [
              "(tensor([[ 1.,  2.,  3.,  4.,  5.,  6.],\n",
              "         [ 7.,  8.,  9., 10., 11., 12.]]),\n",
              " torch.Size([2, 6]))"
            ]
          },
          "metadata": {},
          "execution_count": 84
        }
      ]
    },
    {
      "cell_type": "code",
      "source": [
        "x_reshaped = x.reshape(6,2)\n",
        "x_reshaped, x_reshaped.shape"
      ],
      "metadata": {
        "id": "HJ5kE20ZMtgA",
        "colab": {
          "base_uri": "https://localhost:8080/"
        },
        "outputId": "8050bc78-faf0-4c77-9a09-e2cebc0b6e5b"
      },
      "execution_count": 85,
      "outputs": [
        {
          "output_type": "execute_result",
          "data": {
            "text/plain": [
              "(tensor([[ 1.,  2.],\n",
              "         [ 3.,  4.],\n",
              "         [ 5.,  6.],\n",
              "         [ 7.,  8.],\n",
              "         [ 9., 10.],\n",
              "         [11., 12.]]),\n",
              " torch.Size([6, 2]))"
            ]
          },
          "metadata": {},
          "execution_count": 85
        }
      ]
    },
    {
      "cell_type": "code",
      "source": [
        "x = torch.arange(1.,10.)\n",
        "x, x.shape"
      ],
      "metadata": {
        "id": "5_2wMyJmOPp_",
        "colab": {
          "base_uri": "https://localhost:8080/"
        },
        "outputId": "7d307868-a777-4d30-b5db-5b77e29251e0"
      },
      "execution_count": 86,
      "outputs": [
        {
          "output_type": "execute_result",
          "data": {
            "text/plain": [
              "(tensor([1., 2., 3., 4., 5., 6., 7., 8., 9.]), torch.Size([9]))"
            ]
          },
          "metadata": {},
          "execution_count": 86
        }
      ]
    },
    {
      "cell_type": "code",
      "source": [
        "# Change the view\n",
        "z = x.view(1,9)\n",
        "z, z.shape"
      ],
      "metadata": {
        "id": "jdHmEfZPMtdL",
        "colab": {
          "base_uri": "https://localhost:8080/"
        },
        "outputId": "46180f6d-c9e6-4ea3-9b1a-f1560f01b878"
      },
      "execution_count": 87,
      "outputs": [
        {
          "output_type": "execute_result",
          "data": {
            "text/plain": [
              "(tensor([[1., 2., 3., 4., 5., 6., 7., 8., 9.]]), torch.Size([1, 9]))"
            ]
          },
          "metadata": {},
          "execution_count": 87
        }
      ]
    },
    {
      "cell_type": "code",
      "source": [
        "# Changing z changes x (because a view of a tensor shares the same memory as the original input)\n",
        "z [:, 0] = 5\n",
        "z, x"
      ],
      "metadata": {
        "id": "WgCeEjxIMtaY",
        "colab": {
          "base_uri": "https://localhost:8080/"
        },
        "outputId": "59bd9c74-185c-4681-b4e9-d0976fbab13f"
      },
      "execution_count": 88,
      "outputs": [
        {
          "output_type": "execute_result",
          "data": {
            "text/plain": [
              "(tensor([[5., 2., 3., 4., 5., 6., 7., 8., 9.]]),\n",
              " tensor([5., 2., 3., 4., 5., 6., 7., 8., 9.]))"
            ]
          },
          "metadata": {},
          "execution_count": 88
        }
      ]
    },
    {
      "cell_type": "code",
      "source": [
        "# Stack tensors on top of each other\n",
        "x_stacked  = torch.stack([x,x,x,x], dim=0 )\n",
        "x_stacked"
      ],
      "metadata": {
        "id": "P_OixWGBO6Pq",
        "colab": {
          "base_uri": "https://localhost:8080/"
        },
        "outputId": "e7723ae4-d603-4d21-8afe-39c75fbb643b"
      },
      "execution_count": 89,
      "outputs": [
        {
          "output_type": "execute_result",
          "data": {
            "text/plain": [
              "tensor([[5., 2., 3., 4., 5., 6., 7., 8., 9.],\n",
              "        [5., 2., 3., 4., 5., 6., 7., 8., 9.],\n",
              "        [5., 2., 3., 4., 5., 6., 7., 8., 9.],\n",
              "        [5., 2., 3., 4., 5., 6., 7., 8., 9.]])"
            ]
          },
          "metadata": {},
          "execution_count": 89
        }
      ]
    },
    {
      "cell_type": "code",
      "source": [
        "x_stacked  = torch.stack([x,x,x,x], dim=1 )\n",
        "x_stacked"
      ],
      "metadata": {
        "id": "rJTbGAiFO6NC",
        "colab": {
          "base_uri": "https://localhost:8080/"
        },
        "outputId": "da02b0e3-9319-412e-e91b-69ed9e100b9a"
      },
      "execution_count": 90,
      "outputs": [
        {
          "output_type": "execute_result",
          "data": {
            "text/plain": [
              "tensor([[5., 5., 5., 5.],\n",
              "        [2., 2., 2., 2.],\n",
              "        [3., 3., 3., 3.],\n",
              "        [4., 4., 4., 4.],\n",
              "        [5., 5., 5., 5.],\n",
              "        [6., 6., 6., 6.],\n",
              "        [7., 7., 7., 7.],\n",
              "        [8., 8., 8., 8.],\n",
              "        [9., 9., 9., 9.]])"
            ]
          },
          "metadata": {},
          "execution_count": 90
        }
      ]
    },
    {
      "cell_type": "code",
      "source": [
        "x"
      ],
      "metadata": {
        "id": "day6nl27RLEP",
        "colab": {
          "base_uri": "https://localhost:8080/"
        },
        "outputId": "8601ebd1-89f4-4186-e259-a115d3bfb786"
      },
      "execution_count": 91,
      "outputs": [
        {
          "output_type": "execute_result",
          "data": {
            "text/plain": [
              "tensor([5., 2., 3., 4., 5., 6., 7., 8., 9.])"
            ]
          },
          "metadata": {},
          "execution_count": 91
        }
      ]
    },
    {
      "cell_type": "code",
      "source": [
        "x_stacked  = torch.vstack([x,x,x,x])\n",
        "x_stacked"
      ],
      "metadata": {
        "id": "7YFc8rIFO6KR",
        "colab": {
          "base_uri": "https://localhost:8080/"
        },
        "outputId": "547d800c-ea19-4d66-9170-0cc4905eefc1"
      },
      "execution_count": 92,
      "outputs": [
        {
          "output_type": "execute_result",
          "data": {
            "text/plain": [
              "tensor([[5., 2., 3., 4., 5., 6., 7., 8., 9.],\n",
              "        [5., 2., 3., 4., 5., 6., 7., 8., 9.],\n",
              "        [5., 2., 3., 4., 5., 6., 7., 8., 9.],\n",
              "        [5., 2., 3., 4., 5., 6., 7., 8., 9.]])"
            ]
          },
          "metadata": {},
          "execution_count": 92
        }
      ]
    },
    {
      "cell_type": "code",
      "source": [
        "x_stacked  = torch.hstack([x,x,x,x])\n",
        "x_stacked"
      ],
      "metadata": {
        "id": "TW6jZVnAO6Hf",
        "colab": {
          "base_uri": "https://localhost:8080/"
        },
        "outputId": "e85ab3bb-0890-4d9a-9813-7ebee1e3015f"
      },
      "execution_count": 93,
      "outputs": [
        {
          "output_type": "execute_result",
          "data": {
            "text/plain": [
              "tensor([5., 2., 3., 4., 5., 6., 7., 8., 9., 5., 2., 3., 4., 5., 6., 7., 8., 9.,\n",
              "        5., 2., 3., 4., 5., 6., 7., 8., 9., 5., 2., 3., 4., 5., 6., 7., 8., 9.])"
            ]
          },
          "metadata": {},
          "execution_count": 93
        }
      ]
    },
    {
      "cell_type": "code",
      "source": [
        "# torch.squeeze() - removes all single dimentions for a target tensor\n",
        "x_reshape = x.reshape(1,9)\n",
        "x_reshape, x_reshape.shape"
      ],
      "metadata": {
        "id": "hMrdIcRNO6E2",
        "colab": {
          "base_uri": "https://localhost:8080/"
        },
        "outputId": "8cefadc9-0187-4553-9476-d42f41f02e7f"
      },
      "execution_count": 94,
      "outputs": [
        {
          "output_type": "execute_result",
          "data": {
            "text/plain": [
              "(tensor([[5., 2., 3., 4., 5., 6., 7., 8., 9.]]), torch.Size([1, 9]))"
            ]
          },
          "metadata": {},
          "execution_count": 94
        }
      ]
    },
    {
      "cell_type": "code",
      "source": [
        "print(f\"Previous tensor: {x_reshape}\")\n",
        "print(f\"Previous shape: {x_reshape.shape}\")\n",
        "\n",
        "# Remove eextra dimentions from x_reshape\n",
        "x_squeezed = x_reshape.squeeze()\n",
        "print(f\"\\nNew tensor : {x_squeezed}\")\n",
        "print(f\"New Shape: {x_squeezed.shape}\")\n"
      ],
      "metadata": {
        "id": "W26rPz1GTovP",
        "colab": {
          "base_uri": "https://localhost:8080/"
        },
        "outputId": "8acd33b8-1728-4056-95db-c9b8a42cbe26"
      },
      "execution_count": 95,
      "outputs": [
        {
          "output_type": "stream",
          "name": "stdout",
          "text": [
            "Previous tensor: tensor([[5., 2., 3., 4., 5., 6., 7., 8., 9.]])\n",
            "Previous shape: torch.Size([1, 9])\n",
            "\n",
            "New tensor : tensor([5., 2., 3., 4., 5., 6., 7., 8., 9.])\n",
            "New Shape: torch.Size([9])\n"
          ]
        }
      ]
    },
    {
      "cell_type": "code",
      "source": [
        "x_reshape.squeeze()"
      ],
      "metadata": {
        "id": "NtFm9XgDQ_gk",
        "colab": {
          "base_uri": "https://localhost:8080/"
        },
        "outputId": "bf690e69-f56c-469f-83aa-2df058d83000"
      },
      "execution_count": 96,
      "outputs": [
        {
          "output_type": "execute_result",
          "data": {
            "text/plain": [
              "tensor([5., 2., 3., 4., 5., 6., 7., 8., 9.])"
            ]
          },
          "metadata": {},
          "execution_count": 96
        }
      ]
    },
    {
      "cell_type": "code",
      "source": [
        "x_reshape.squeeze().shape   # all single dimentions removed"
      ],
      "metadata": {
        "id": "cuO8CamGQ_dy",
        "colab": {
          "base_uri": "https://localhost:8080/"
        },
        "outputId": "bb1b8f08-ecff-425d-c0b5-e9a1c8e52699"
      },
      "execution_count": 97,
      "outputs": [
        {
          "output_type": "execute_result",
          "data": {
            "text/plain": [
              "torch.Size([9])"
            ]
          },
          "metadata": {},
          "execution_count": 97
        }
      ]
    },
    {
      "cell_type": "code",
      "source": [
        "# torch.unsqueeze() - adds a single dimension to a taarget tensor at a specific dim/diimnesion\n",
        "print(f\"Previous target: {x_squeezed}\")\n",
        "print(f\"Previous shape: {x_reshape.shape}\")\n",
        "\n",
        "# Add an extra dimension with unsqueeze\n",
        "x_unsqueezed = x_squeezed.unsqueeze(dim=0)\n",
        "x_unsqueezed, x_unsqueezed.shape\n",
        "\n"
      ],
      "metadata": {
        "id": "F9Z4eh6KQ_bD",
        "colab": {
          "base_uri": "https://localhost:8080/"
        },
        "outputId": "fce47dd9-9a4b-46ee-f1a7-3f7879a3eff9"
      },
      "execution_count": 98,
      "outputs": [
        {
          "output_type": "stream",
          "name": "stdout",
          "text": [
            "Previous target: tensor([5., 2., 3., 4., 5., 6., 7., 8., 9.])\n",
            "Previous shape: torch.Size([1, 9])\n"
          ]
        },
        {
          "output_type": "execute_result",
          "data": {
            "text/plain": [
              "(tensor([[5., 2., 3., 4., 5., 6., 7., 8., 9.]]), torch.Size([1, 9]))"
            ]
          },
          "metadata": {},
          "execution_count": 98
        }
      ]
    },
    {
      "cell_type": "code",
      "source": [
        "print(f\"\\nNew tensor: {x_unsqueezed}\")\n",
        "print(f\"New tensor shape: {x_unsqueezed.shape}\")\n"
      ],
      "metadata": {
        "id": "cKeGiIkhQ_YN",
        "colab": {
          "base_uri": "https://localhost:8080/"
        },
        "outputId": "2e206e7a-2afb-4a14-ff21-dfc78b1646d2"
      },
      "execution_count": 99,
      "outputs": [
        {
          "output_type": "stream",
          "name": "stdout",
          "text": [
            "\n",
            "New tensor: tensor([[5., 2., 3., 4., 5., 6., 7., 8., 9.]])\n",
            "New tensor shape: torch.Size([1, 9])\n"
          ]
        }
      ]
    },
    {
      "cell_type": "code",
      "source": [
        "x_unsqueezed = x_squeezed.unsqueeze(dim=1)\n",
        "x_unsqueezed, x_unsqueezed.shape"
      ],
      "metadata": {
        "id": "m4MX7lpua0Y7",
        "colab": {
          "base_uri": "https://localhost:8080/"
        },
        "outputId": "8059abff-d2da-4c3d-b29a-7df7a3107313"
      },
      "execution_count": 100,
      "outputs": [
        {
          "output_type": "execute_result",
          "data": {
            "text/plain": [
              "(tensor([[5.],\n",
              "         [2.],\n",
              "         [3.],\n",
              "         [4.],\n",
              "         [5.],\n",
              "         [6.],\n",
              "         [7.],\n",
              "         [8.],\n",
              "         [9.]]),\n",
              " torch.Size([9, 1]))"
            ]
          },
          "metadata": {},
          "execution_count": 100
        }
      ]
    },
    {
      "cell_type": "code",
      "source": [
        "# torch.permute - rearranges the dimensions of a target tensor in a specified order. IMP NOTE : permute is a view\n",
        "x_original = torch.rand(224,224,3) # [height, width, color channels (image tensor)]\n",
        "\n",
        "# Permute the original tensor to the axis (dim) order\n",
        "x_permuted = x_original.permute(2,0,1)  # shifts axis 0->1, 1->2, 2->0\n",
        "\n",
        "print(f\"Previous shape: {x_original.shape}\")\n",
        "print(f\"New shape: {x_permuted.shape}\") # color, height, width\n"
      ],
      "metadata": {
        "id": "752_DLEmbH7c",
        "colab": {
          "base_uri": "https://localhost:8080/"
        },
        "outputId": "58e3ea2a-9d5e-458a-bd0a-a9b2e81b1d2d"
      },
      "execution_count": 101,
      "outputs": [
        {
          "output_type": "stream",
          "name": "stdout",
          "text": [
            "Previous shape: torch.Size([224, 224, 3])\n",
            "New shape: torch.Size([3, 224, 224])\n"
          ]
        }
      ]
    },
    {
      "cell_type": "code",
      "source": [
        "x_original[0,0,0] = 12.4569\n",
        "x_original[0,0,0], x_permuted[0,0,0]"
      ],
      "metadata": {
        "id": "is4S4KX1bH3p",
        "colab": {
          "base_uri": "https://localhost:8080/"
        },
        "outputId": "56c6746f-b990-4da4-ced7-cdf83ede550c"
      },
      "execution_count": 102,
      "outputs": [
        {
          "output_type": "execute_result",
          "data": {
            "text/plain": [
              "(tensor(12.4569), tensor(12.4569))"
            ]
          },
          "metadata": {},
          "execution_count": 102
        }
      ]
    },
    {
      "cell_type": "markdown",
      "source": [
        "## Indexing (Selecting data from tensors)\n",
        "* Indexing with PyTorch is similar to indexing with NumPy."
      ],
      "metadata": {
        "id": "uRjncFS2bH1G"
      }
    },
    {
      "cell_type": "code",
      "source": [
        "# Create a tensor\n",
        "import torch\n",
        "x = torch.arange(1,10).reshape(1,3,3)\n",
        "x, x.shape"
      ],
      "metadata": {
        "id": "TkGgfasibHyP",
        "colab": {
          "base_uri": "https://localhost:8080/"
        },
        "outputId": "646fea59-96c5-48d8-b266-ff89a2074376"
      },
      "execution_count": 103,
      "outputs": [
        {
          "output_type": "execute_result",
          "data": {
            "text/plain": [
              "(tensor([[[1, 2, 3],\n",
              "          [4, 5, 6],\n",
              "          [7, 8, 9]]]),\n",
              " torch.Size([1, 3, 3]))"
            ]
          },
          "metadata": {},
          "execution_count": 103
        }
      ]
    },
    {
      "cell_type": "code",
      "source": [
        "# let's index on our new tensor (dim=0)\n",
        "x[0]"
      ],
      "metadata": {
        "id": "qnhkpCE_g2hV",
        "colab": {
          "base_uri": "https://localhost:8080/"
        },
        "outputId": "cad730ed-d5f1-47a7-860b-9bda7d21f373"
      },
      "execution_count": 104,
      "outputs": [
        {
          "output_type": "execute_result",
          "data": {
            "text/plain": [
              "tensor([[1, 2, 3],\n",
              "        [4, 5, 6],\n",
              "        [7, 8, 9]])"
            ]
          },
          "metadata": {},
          "execution_count": 104
        }
      ]
    },
    {
      "cell_type": "code",
      "source": [
        "# let's index on the middle bracket (dim=1)\n",
        "x[0,0]"
      ],
      "metadata": {
        "id": "Wg3a__8Rg2eS",
        "colab": {
          "base_uri": "https://localhost:8080/"
        },
        "outputId": "97a79467-8776-45be-9a13-0de350fc2c2e"
      },
      "execution_count": 105,
      "outputs": [
        {
          "output_type": "execute_result",
          "data": {
            "text/plain": [
              "tensor([1, 2, 3])"
            ]
          },
          "metadata": {},
          "execution_count": 105
        }
      ]
    },
    {
      "cell_type": "code",
      "source": [
        "# let's index on the most inner bracket (dim=2/lastdimention)\n",
        "x[0][0][0]"
      ],
      "metadata": {
        "id": "6Q_AGI2cg2bp",
        "colab": {
          "base_uri": "https://localhost:8080/"
        },
        "outputId": "9a1e4864-3a33-4277-ac0b-a95be7f49fbb"
      },
      "execution_count": 106,
      "outputs": [
        {
          "output_type": "execute_result",
          "data": {
            "text/plain": [
              "tensor(1)"
            ]
          },
          "metadata": {},
          "execution_count": 106
        }
      ]
    },
    {
      "cell_type": "code",
      "source": [
        "x[0,2,2]"
      ],
      "metadata": {
        "id": "vBwqNTmejDIu",
        "colab": {
          "base_uri": "https://localhost:8080/"
        },
        "outputId": "303811bb-f4d9-4865-b1a5-cb1da7ffb542"
      },
      "execution_count": 107,
      "outputs": [
        {
          "output_type": "execute_result",
          "data": {
            "text/plain": [
              "tensor(9)"
            ]
          },
          "metadata": {},
          "execution_count": 107
        }
      ]
    },
    {
      "cell_type": "code",
      "source": [
        "x[0][1][1]"
      ],
      "metadata": {
        "id": "nthSpEmWmxnC",
        "colab": {
          "base_uri": "https://localhost:8080/"
        },
        "outputId": "a220aad2-326e-4429-b8f2-26892342c508"
      },
      "execution_count": 108,
      "outputs": [
        {
          "output_type": "execute_result",
          "data": {
            "text/plain": [
              "tensor(5)"
            ]
          },
          "metadata": {},
          "execution_count": 108
        }
      ]
    },
    {
      "cell_type": "code",
      "source": [
        "# You can also use \":\" to select \"all\" of a target dimension\n",
        "x[:,1]"
      ],
      "metadata": {
        "id": "Vb6YTJ1WjDFv",
        "colab": {
          "base_uri": "https://localhost:8080/"
        },
        "outputId": "a11ed60e-a4fc-462b-d937-a9c6dce33e98"
      },
      "execution_count": 109,
      "outputs": [
        {
          "output_type": "execute_result",
          "data": {
            "text/plain": [
              "tensor([[4, 5, 6]])"
            ]
          },
          "metadata": {},
          "execution_count": 109
        }
      ]
    },
    {
      "cell_type": "code",
      "source": [
        "# Get all values of 0th and 1st dimensions but only index 1 of 2nd dimension\n",
        "x[:,:,1]"
      ],
      "metadata": {
        "id": "LF3MpZ9djDC_",
        "colab": {
          "base_uri": "https://localhost:8080/"
        },
        "outputId": "ba95f732-161d-4d16-efdf-20cd5ba4b4b6"
      },
      "execution_count": 110,
      "outputs": [
        {
          "output_type": "execute_result",
          "data": {
            "text/plain": [
              "tensor([[2, 5, 8]])"
            ]
          },
          "metadata": {},
          "execution_count": 110
        }
      ]
    },
    {
      "cell_type": "code",
      "source": [
        "# Get all values of the 0 dimensoion but only the 1 index value of 1st and 2nd dimention\n",
        "x[:,1,1]"
      ],
      "metadata": {
        "id": "bAHswZU0kJkA",
        "colab": {
          "base_uri": "https://localhost:8080/"
        },
        "outputId": "01e3d66b-2fe3-4309-d576-6bf48fcb5bed"
      },
      "execution_count": 111,
      "outputs": [
        {
          "output_type": "execute_result",
          "data": {
            "text/plain": [
              "tensor([5])"
            ]
          },
          "metadata": {},
          "execution_count": 111
        }
      ]
    },
    {
      "cell_type": "code",
      "source": [
        "# Get index 0 of 0th and 1st dimension and all values of 2nd dimension\n",
        "x[0,0,:]"
      ],
      "metadata": {
        "id": "JFjMSB3HkJhC",
        "colab": {
          "base_uri": "https://localhost:8080/"
        },
        "outputId": "229d673c-d015-46b0-d231-d63ac776ac94"
      },
      "execution_count": 112,
      "outputs": [
        {
          "output_type": "execute_result",
          "data": {
            "text/plain": [
              "tensor([1, 2, 3])"
            ]
          },
          "metadata": {},
          "execution_count": 112
        }
      ]
    },
    {
      "cell_type": "code",
      "source": [
        "x"
      ],
      "metadata": {
        "id": "0exRftdxoIX6",
        "colab": {
          "base_uri": "https://localhost:8080/"
        },
        "outputId": "d75bc4c0-d259-4ddd-fd89-a964454a4049"
      },
      "execution_count": 113,
      "outputs": [
        {
          "output_type": "execute_result",
          "data": {
            "text/plain": [
              "tensor([[[1, 2, 3],\n",
              "         [4, 5, 6],\n",
              "         [7, 8, 9]]])"
            ]
          },
          "metadata": {},
          "execution_count": 113
        }
      ]
    },
    {
      "cell_type": "code",
      "source": [
        "# index on x to return 9\n",
        "x[:,2,2]"
      ],
      "metadata": {
        "id": "Lwln_CygkJeX",
        "colab": {
          "base_uri": "https://localhost:8080/"
        },
        "outputId": "f259dfe5-f2f4-46dc-d470-f3e08b7b34cb"
      },
      "execution_count": 114,
      "outputs": [
        {
          "output_type": "execute_result",
          "data": {
            "text/plain": [
              "tensor([9])"
            ]
          },
          "metadata": {},
          "execution_count": 114
        }
      ]
    },
    {
      "cell_type": "code",
      "source": [
        "# Index on x to return 3,6,9\n",
        "x[:,:,2]"
      ],
      "metadata": {
        "id": "LdL1b_1Iov4X",
        "colab": {
          "base_uri": "https://localhost:8080/"
        },
        "outputId": "8b636634-7b3a-4864-a2a7-65e91cc17c66"
      },
      "execution_count": 115,
      "outputs": [
        {
          "output_type": "execute_result",
          "data": {
            "text/plain": [
              "tensor([[3, 6, 9]])"
            ]
          },
          "metadata": {},
          "execution_count": 115
        }
      ]
    },
    {
      "cell_type": "markdown",
      "source": [
        "## PyTorch tensors and NumPy\n",
        "\n",
        " NumPy is a popular scientific Python numerical computing library.\n",
        "\n",
        " And because of this, PyTorch has functionality to interact with it.\n",
        "\n",
        " * Data in NumPy, want in PyTorch tensor -> torch.from_numpy(ndarray)\n",
        " * PyTorch tensor -> NumPy - torch.Tensor.numpy()"
      ],
      "metadata": {
        "id": "JPZPGQNNpF9J"
      }
    },
    {
      "cell_type": "code",
      "source": [
        "# NumPy array to tensor\n",
        "import torch\n",
        "import numpy as np\n",
        "\n",
        "array = np.arange(1.0, 8.0)\n",
        "tensor = torch.from_numpy(array)  # numpy array is a float64 by default n tensor is a float32 by default, when u convert the tensor will be float64 by default\n",
        "array, tensor"
      ],
      "metadata": {
        "id": "J-0KT-HipF6Y",
        "colab": {
          "base_uri": "https://localhost:8080/"
        },
        "outputId": "f7c8ddf6-06ff-40a6-8a25-e1425ca65f70"
      },
      "execution_count": 116,
      "outputs": [
        {
          "output_type": "execute_result",
          "data": {
            "text/plain": [
              "(array([1., 2., 3., 4., 5., 6., 7.]),\n",
              " tensor([1., 2., 3., 4., 5., 6., 7.], dtype=torch.float64))"
            ]
          },
          "metadata": {},
          "execution_count": 116
        }
      ]
    },
    {
      "cell_type": "code",
      "source": [
        "array = np.arange(1.0, 8.0)\n",
        "tensor = torch.from_numpy(array).type(torch.float32)\n",
        "array, tensor"
      ],
      "metadata": {
        "id": "q7YUvtLQpF3j",
        "colab": {
          "base_uri": "https://localhost:8080/"
        },
        "outputId": "79f5f16d-e91a-41eb-e04d-5bfb763ae511"
      },
      "execution_count": 117,
      "outputs": [
        {
          "output_type": "execute_result",
          "data": {
            "text/plain": [
              "(array([1., 2., 3., 4., 5., 6., 7.]), tensor([1., 2., 3., 4., 5., 6., 7.]))"
            ]
          },
          "metadata": {},
          "execution_count": 117
        }
      ]
    },
    {
      "cell_type": "code",
      "source": [
        "array = np.arange(1.0, 8.0)\n",
        "tensor = torch.from_numpy(array)\n",
        "array, tensor,array.dtype"
      ],
      "metadata": {
        "id": "2a-iM3EGuJes",
        "colab": {
          "base_uri": "https://localhost:8080/"
        },
        "outputId": "28a8cfdf-927f-4b21-d9ce-1bf59fa89c87"
      },
      "execution_count": 118,
      "outputs": [
        {
          "output_type": "execute_result",
          "data": {
            "text/plain": [
              "(array([1., 2., 3., 4., 5., 6., 7.]),\n",
              " tensor([1., 2., 3., 4., 5., 6., 7.], dtype=torch.float64),\n",
              " dtype('float64'))"
            ]
          },
          "metadata": {},
          "execution_count": 118
        }
      ]
    },
    {
      "cell_type": "code",
      "source": [
        "# Change the value of array, what will this do to `tensor`?\n",
        "array = array+1\n",
        "array, tensor"
      ],
      "metadata": {
        "id": "ifB7jJ3WpF0-",
        "colab": {
          "base_uri": "https://localhost:8080/"
        },
        "outputId": "894672c0-4669-4574-a05a-a6c733158bdb"
      },
      "execution_count": 119,
      "outputs": [
        {
          "output_type": "execute_result",
          "data": {
            "text/plain": [
              "(array([2., 3., 4., 5., 6., 7., 8.]),\n",
              " tensor([1., 2., 3., 4., 5., 6., 7.], dtype=torch.float64))"
            ]
          },
          "metadata": {},
          "execution_count": 119
        }
      ]
    },
    {
      "cell_type": "code",
      "source": [
        "# Tensor to NumPy array\n",
        "tensor  = torch.ones(7)\n",
        "numpy_tensor = tensor.numpy()\n",
        "tensor, numpy_tensor"
      ],
      "metadata": {
        "id": "0G0P4ezZqgU_",
        "colab": {
          "base_uri": "https://localhost:8080/"
        },
        "outputId": "be1f8bdb-a3c2-4195-db82-86e31c600cbc"
      },
      "execution_count": 120,
      "outputs": [
        {
          "output_type": "execute_result",
          "data": {
            "text/plain": [
              "(tensor([1., 1., 1., 1., 1., 1., 1.]),\n",
              " array([1., 1., 1., 1., 1., 1., 1.], dtype=float32))"
            ]
          },
          "metadata": {},
          "execution_count": 120
        }
      ]
    },
    {
      "cell_type": "code",
      "source": [
        "# Change the value of tensor, what will this do to `numpy_tensor`?\n",
        "tensor  = tensor + 1\n",
        "tensor, numpy_tensor"
      ],
      "metadata": {
        "id": "rzgmf0aGqgR9",
        "colab": {
          "base_uri": "https://localhost:8080/"
        },
        "outputId": "ef3fd990-da0a-4182-920e-98a092d90c46"
      },
      "execution_count": 121,
      "outputs": [
        {
          "output_type": "execute_result",
          "data": {
            "text/plain": [
              "(tensor([2., 2., 2., 2., 2., 2., 2.]),\n",
              " array([1., 1., 1., 1., 1., 1., 1.], dtype=float32))"
            ]
          },
          "metadata": {},
          "execution_count": 121
        }
      ]
    },
    {
      "cell_type": "markdown",
      "source": [
        "## Reproducibility (trying to take random out of random)\n",
        "In short how a neural network learns:\n",
        "\n",
        "start with random numbers -> tensor operations -> update random numbers to try and make them better representations of the data -> again -> again -> again\n",
        "\n",
        "\n"
      ],
      "metadata": {
        "id": "78vE2TVOYzFY"
      }
    },
    {
      "cell_type": "code",
      "source": [
        "import torch\n",
        "\n",
        "#create two random tensors\n",
        "random_tensor_A =  torch.rand(3,4)\n",
        "random_tensor_B =  torch.rand(3,4)\n",
        "\n",
        "print(random_tensor_A)\n",
        "print(random_tensor_B)\n",
        "print(random_tensor_A == random_tensor_B)\n"
      ],
      "metadata": {
        "id": "lFEp5BrnZauF",
        "colab": {
          "base_uri": "https://localhost:8080/"
        },
        "outputId": "54607de3-bb9e-462f-c6fe-c7ae3169455d"
      },
      "execution_count": 122,
      "outputs": [
        {
          "output_type": "stream",
          "name": "stdout",
          "text": [
            "tensor([[0.7745, 0.1097, 0.4800, 0.3586],\n",
            "        [0.6685, 0.3549, 0.5091, 0.6867],\n",
            "        [0.4929, 0.8285, 0.0212, 0.4683]])\n",
            "tensor([[0.1913, 0.0252, 0.5147, 0.0354],\n",
            "        [0.0733, 0.6673, 0.9849, 0.4191],\n",
            "        [0.9219, 0.3343, 0.2542, 0.1135]])\n",
            "tensor([[False, False, False, False],\n",
            "        [False, False, False, False],\n",
            "        [False, False, False, False]])\n"
          ]
        }
      ]
    },
    {
      "cell_type": "code",
      "source": [
        "# Let's make some random but reproducible tensors\n",
        "import torch\n",
        "\n",
        "# Set the random seed\n",
        "RANDOM_SEED = 42\n",
        "torch.manual_seed(RANDOM_SEED)\n",
        "random_tensor_C = torch.rand(3,4)\n",
        "\n",
        "torch.manual_seed(RANDOM_SEED)\n",
        "random_tensor_D = torch.rand(3,4)\n",
        "\n",
        "print(random_tensor_C)\n",
        "print(random_tensor_D)\n",
        "print(random_tensor_C == random_tensor_D)"
      ],
      "metadata": {
        "id": "RTJNZVmMZarC",
        "colab": {
          "base_uri": "https://localhost:8080/"
        },
        "outputId": "6a0c3c9d-88c3-4ee2-e70d-de19ad21e068"
      },
      "execution_count": 123,
      "outputs": [
        {
          "output_type": "stream",
          "name": "stdout",
          "text": [
            "tensor([[0.8823, 0.9150, 0.3829, 0.9593],\n",
            "        [0.3904, 0.6009, 0.2566, 0.7936],\n",
            "        [0.9408, 0.1332, 0.9346, 0.5936]])\n",
            "tensor([[0.8823, 0.9150, 0.3829, 0.9593],\n",
            "        [0.3904, 0.6009, 0.2566, 0.7936],\n",
            "        [0.9408, 0.1332, 0.9346, 0.5936]])\n",
            "tensor([[True, True, True, True],\n",
            "        [True, True, True, True],\n",
            "        [True, True, True, True]])\n"
          ]
        }
      ]
    },
    {
      "cell_type": "markdown",
      "source": [
        "## Running tensors and PyTorch objects on the GPU's (and making faster computations)\n",
        "\n",
        "GPU's = faster computatiuon o n numbers, thanks to CUDA + NVIDIA hardware + PyTorch working behind the scenes to make everything hunky dory.\n",
        "\n"
      ],
      "metadata": {
        "id": "lRw77rCKZaoY"
      }
    },
    {
      "cell_type": "code",
      "source": [
        "!nvidia-smi"
      ],
      "metadata": {
        "id": "5PjOJNmtZalx",
        "colab": {
          "base_uri": "https://localhost:8080/"
        },
        "outputId": "60983804-26ed-439d-c6d7-78d4e96a84e8"
      },
      "execution_count": 124,
      "outputs": [
        {
          "output_type": "stream",
          "name": "stdout",
          "text": [
            "/bin/bash: line 1: nvidia-smi: command not found\n"
          ]
        }
      ]
    },
    {
      "cell_type": "markdown",
      "source": [
        "## Chech for GPU access with PyTorch"
      ],
      "metadata": {
        "id": "yyWI6NANexvG"
      }
    },
    {
      "cell_type": "code",
      "source": [
        "import torch\n",
        "torch.cuda.is_available()"
      ],
      "metadata": {
        "id": "zsehfDwpexsH",
        "colab": {
          "base_uri": "https://localhost:8080/"
        },
        "outputId": "2c1b9b51-e9a1-45b7-e253-f388b3bed710"
      },
      "execution_count": 126,
      "outputs": [
        {
          "output_type": "execute_result",
          "data": {
            "text/plain": [
              "False"
            ]
          },
          "metadata": {},
          "execution_count": 126
        }
      ]
    },
    {
      "cell_type": "code",
      "source": [
        "# Setup device agnostic code\n",
        "device = \"cuda\" if torch.cuda.is_available() else \"cpu\"\n",
        "device"
      ],
      "metadata": {
        "id": "zUCHAlvrexpd",
        "colab": {
          "base_uri": "https://localhost:8080/",
          "height": 35
        },
        "outputId": "4a902ae9-4f8e-45fc-d718-17151f96d4fb"
      },
      "execution_count": 129,
      "outputs": [
        {
          "output_type": "execute_result",
          "data": {
            "text/plain": [
              "'cpu'"
            ],
            "application/vnd.google.colaboratory.intrinsic+json": {
              "type": "string"
            }
          },
          "metadata": {},
          "execution_count": 129
        }
      ]
    },
    {
      "cell_type": "code",
      "source": [
        "# Count number of devices\n",
        "torch.cuda.device_count()"
      ],
      "metadata": {
        "id": "NOv1688Bh-qr",
        "colab": {
          "base_uri": "https://localhost:8080/"
        },
        "outputId": "489f9833-4ab8-4b33-e84b-2196a546f95a"
      },
      "execution_count": 128,
      "outputs": [
        {
          "output_type": "execute_result",
          "data": {
            "text/plain": [
              "0"
            ]
          },
          "metadata": {},
          "execution_count": 128
        }
      ]
    },
    {
      "cell_type": "markdown",
      "source": [
        "## Putting tensors (and models) on the GPU\n",
        "\n",
        "The reason we want our tensors/models on the GPU is because using a GPU results in faster computatuons."
      ],
      "metadata": {
        "id": "R9IYH5dHh-oC"
      }
    },
    {
      "cell_type": "code",
      "source": [
        "# Create a tensor(default on the CPU)\n",
        "tensor  = torch.tensor([1,2,3])\n",
        "\n",
        "# Tensor not on GPU\n",
        "print(tensor, tensor.device)"
      ],
      "metadata": {
        "id": "M67toocsh-lQ",
        "colab": {
          "base_uri": "https://localhost:8080/"
        },
        "outputId": "23c08c80-aba3-4ced-f15c-214a8f95d98e"
      },
      "execution_count": 127,
      "outputs": [
        {
          "output_type": "stream",
          "name": "stdout",
          "text": [
            "tensor([1, 2, 3]) cpu\n"
          ]
        }
      ]
    },
    {
      "cell_type": "code",
      "source": [
        "# Moving tensor to GPU (if available)\n",
        "tensor_to_gpu = tensor.to(device)\n",
        "tensor_to_gpu"
      ],
      "metadata": {
        "id": "v3YTcB_uh_vb",
        "colab": {
          "base_uri": "https://localhost:8080/"
        },
        "outputId": "3594608b-d64d-4d78-f09b-c31254804a4e"
      },
      "execution_count": 130,
      "outputs": [
        {
          "output_type": "execute_result",
          "data": {
            "text/plain": [
              "tensor([1, 2, 3])"
            ]
          },
          "metadata": {},
          "execution_count": 130
        }
      ]
    },
    {
      "cell_type": "code",
      "source": [
        "## Moving tensor back to CPU\n",
        "tensor_to_cpu = tensor.to(device=\"cpu\")\n",
        "tensor_to_cpu.device"
      ],
      "metadata": {
        "id": "KaVc4tCIh_se",
        "colab": {
          "base_uri": "https://localhost:8080/"
        },
        "outputId": "620e22d0-5a9e-45d7-de80-fa63746e56f4"
      },
      "execution_count": 131,
      "outputs": [
        {
          "output_type": "execute_result",
          "data": {
            "text/plain": [
              "device(type='cpu')"
            ]
          },
          "metadata": {},
          "execution_count": 131
        }
      ]
    },
    {
      "cell_type": "code",
      "source": [
        "# If tensor is on GPU, can't transform it to NumPy\n",
        "tensor_to_gpu.numpy()"
      ],
      "metadata": {
        "id": "anykrFbEh_pp",
        "colab": {
          "base_uri": "https://localhost:8080/"
        },
        "outputId": "c99d0f0f-f01e-4f47-87cf-2a64108497e4"
      },
      "execution_count": 132,
      "outputs": [
        {
          "output_type": "execute_result",
          "data": {
            "text/plain": [
              "array([1, 2, 3])"
            ]
          },
          "metadata": {},
          "execution_count": 132
        }
      ]
    },
    {
      "cell_type": "code",
      "source": [
        "# To fix this first the tensor need to set to CPU\n",
        "tensor_back_to_cpu  = tensor_to_gpu.cpu().numpy()\n",
        "tensor_back_to_cpu"
      ],
      "metadata": {
        "id": "h5OWzfX_nen4",
        "colab": {
          "base_uri": "https://localhost:8080/"
        },
        "outputId": "9f12a5c5-ab11-40e4-aeb5-3530f2d6b969"
      },
      "execution_count": 133,
      "outputs": [
        {
          "output_type": "execute_result",
          "data": {
            "text/plain": [
              "array([1, 2, 3])"
            ]
          },
          "metadata": {},
          "execution_count": 133
        }
      ]
    },
    {
      "cell_type": "code",
      "source": [
        "!git config --global user.name \"Hunter8T8\"\n",
        "!git config --global user.email \"sg.sougata@gmail.com\""
      ],
      "metadata": {
        "id": "wtR7wcuYnehj"
      },
      "execution_count": 134,
      "outputs": []
    },
    {
      "cell_type": "code",
      "source": [
        "!git clone https://github.com/Hunter8T8/Neural-Networks-with-PyTorch"
      ],
      "metadata": {
        "id": "-bm9MisCneeu",
        "colab": {
          "base_uri": "https://localhost:8080/"
        },
        "outputId": "32f2359d-d238-4910-bd66-de3ff71f1934"
      },
      "execution_count": 135,
      "outputs": [
        {
          "output_type": "stream",
          "name": "stdout",
          "text": [
            "Cloning into 'Neural-Networks-with-PyTorch'...\n",
            "warning: You appear to have cloned an empty repository.\n"
          ]
        }
      ]
    },
    {
      "cell_type": "code",
      "source": [
        "%cd Neural-Networks-with-PyTorch"
      ],
      "metadata": {
        "id": "uQx7SbzunecC",
        "colab": {
          "base_uri": "https://localhost:8080/"
        },
        "outputId": "888de456-873a-411f-e35d-470be6ffd930"
      },
      "execution_count": 136,
      "outputs": [
        {
          "output_type": "stream",
          "name": "stdout",
          "text": [
            "/content/Neural-Networks-with-PyTorch\n"
          ]
        }
      ]
    },
    {
      "cell_type": "code",
      "source": [
        "!git checkout -b main"
      ],
      "metadata": {
        "colab": {
          "base_uri": "https://localhost:8080/"
        },
        "id": "uytpDzYoG0cK",
        "outputId": "72faaa87-e81b-4828-a52a-894d60aaba11"
      },
      "execution_count": 137,
      "outputs": [
        {
          "output_type": "stream",
          "name": "stdout",
          "text": [
            "Switched to a new branch 'main'\n"
          ]
        }
      ]
    },
    {
      "cell_type": "code",
      "source": [
        "!cp /content/pytorch_fundamentals.ipynb ."
      ],
      "metadata": {
        "colab": {
          "base_uri": "https://localhost:8080/"
        },
        "id": "in1EaZzpG0ZY",
        "outputId": "6b5bd14a-dc04-4862-83b1-d8ac78e99ab6"
      },
      "execution_count": 140,
      "outputs": [
        {
          "output_type": "stream",
          "name": "stdout",
          "text": [
            "cp: cannot stat '/content/pytorch_fundamentals.ipynb': No such file or directory\n"
          ]
        }
      ]
    },
    {
      "cell_type": "code",
      "source": [
        "!cp /content/pytorch_fundamentals.ipynb\n",
        "!touch README.md   # optional blank file so the branch has a commit\n",
        "!git add .\n",
        "!git commit -m \"Initial commit on new branch\""
      ],
      "metadata": {
        "id": "aeNRI_4LG0Ww"
      },
      "execution_count": null,
      "outputs": []
    },
    {
      "cell_type": "code",
      "source": [
        "!git push origin new-branch-name"
      ],
      "metadata": {
        "id": "K1CIaaeaG0UK"
      },
      "execution_count": null,
      "outputs": []
    },
    {
      "cell_type": "code",
      "source": [
        "!ls /content"
      ],
      "metadata": {
        "colab": {
          "base_uri": "https://localhost:8080/"
        },
        "id": "ZrKRIzEQG0Rr",
        "outputId": "a45ecb73-fbd7-4ff7-e27c-426b53fd6340"
      },
      "execution_count": 141,
      "outputs": [
        {
          "output_type": "stream",
          "name": "stdout",
          "text": [
            "Neural-Networks-with-PyTorch  sample_data\n"
          ]
        }
      ]
    }
  ]
}